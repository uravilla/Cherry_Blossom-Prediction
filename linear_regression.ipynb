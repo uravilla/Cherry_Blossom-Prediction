{
 "cells": [
  {
   "cell_type": "code",
   "execution_count": 1,
   "id": "6d941487",
   "metadata": {},
   "outputs": [],
   "source": [
    "import numpy as np\n",
    "import pandas as pd\n",
    "import matplotlib.pyplot as plt\n",
    "import seaborn as sns"
   ]
  },
  {
   "cell_type": "code",
   "execution_count": 2,
   "id": "090c2668",
   "metadata": {},
   "outputs": [],
   "source": [
    "# Loading the dataset for Kyoto\n",
    "kyoto = pd.read_csv('data/kyoto.csv')"
   ]
  },
  {
   "cell_type": "code",
   "execution_count": 3,
   "id": "0a10fe12",
   "metadata": {},
   "outputs": [],
   "source": [
    "# Loading the dataset for Liestal\n",
    "liestal = pd.read_csv('data/liestal.csv')"
   ]
  },
  {
   "cell_type": "code",
   "execution_count": 4,
   "id": "088c13b7",
   "metadata": {},
   "outputs": [
    {
     "data": {
      "text/html": [
       "<div>\n",
       "<style scoped>\n",
       "    .dataframe tbody tr th:only-of-type {\n",
       "        vertical-align: middle;\n",
       "    }\n",
       "\n",
       "    .dataframe tbody tr th {\n",
       "        vertical-align: top;\n",
       "    }\n",
       "\n",
       "    .dataframe thead th {\n",
       "        text-align: right;\n",
       "    }\n",
       "</style>\n",
       "<table border=\"1\" class=\"dataframe\">\n",
       "  <thead>\n",
       "    <tr style=\"text-align: right;\">\n",
       "      <th></th>\n",
       "      <th>location</th>\n",
       "      <th>lat</th>\n",
       "      <th>long</th>\n",
       "      <th>alt</th>\n",
       "      <th>year</th>\n",
       "      <th>bloom_date</th>\n",
       "      <th>bloom_doy</th>\n",
       "    </tr>\n",
       "  </thead>\n",
       "  <tbody>\n",
       "    <tr>\n",
       "      <th>0</th>\n",
       "      <td>washingtondc</td>\n",
       "      <td>38.88535</td>\n",
       "      <td>-77.038628</td>\n",
       "      <td>0</td>\n",
       "      <td>1921</td>\n",
       "      <td>1921-03-20</td>\n",
       "      <td>79</td>\n",
       "    </tr>\n",
       "    <tr>\n",
       "      <th>1</th>\n",
       "      <td>washingtondc</td>\n",
       "      <td>38.88535</td>\n",
       "      <td>-77.038628</td>\n",
       "      <td>0</td>\n",
       "      <td>1922</td>\n",
       "      <td>1922-04-07</td>\n",
       "      <td>97</td>\n",
       "    </tr>\n",
       "    <tr>\n",
       "      <th>2</th>\n",
       "      <td>washingtondc</td>\n",
       "      <td>38.88535</td>\n",
       "      <td>-77.038628</td>\n",
       "      <td>0</td>\n",
       "      <td>1923</td>\n",
       "      <td>1923-04-09</td>\n",
       "      <td>99</td>\n",
       "    </tr>\n",
       "    <tr>\n",
       "      <th>3</th>\n",
       "      <td>washingtondc</td>\n",
       "      <td>38.88535</td>\n",
       "      <td>-77.038628</td>\n",
       "      <td>0</td>\n",
       "      <td>1924</td>\n",
       "      <td>1924-04-13</td>\n",
       "      <td>104</td>\n",
       "    </tr>\n",
       "    <tr>\n",
       "      <th>4</th>\n",
       "      <td>washingtondc</td>\n",
       "      <td>38.88535</td>\n",
       "      <td>-77.038628</td>\n",
       "      <td>0</td>\n",
       "      <td>1925</td>\n",
       "      <td>1925-03-27</td>\n",
       "      <td>86</td>\n",
       "    </tr>\n",
       "  </tbody>\n",
       "</table>\n",
       "</div>"
      ],
      "text/plain": [
       "       location       lat       long  alt  year  bloom_date  bloom_doy\n",
       "0  washingtondc  38.88535 -77.038628    0  1921  1921-03-20         79\n",
       "1  washingtondc  38.88535 -77.038628    0  1922  1922-04-07         97\n",
       "2  washingtondc  38.88535 -77.038628    0  1923  1923-04-09         99\n",
       "3  washingtondc  38.88535 -77.038628    0  1924  1924-04-13        104\n",
       "4  washingtondc  38.88535 -77.038628    0  1925  1925-03-27         86"
      ]
     },
     "execution_count": 4,
     "metadata": {},
     "output_type": "execute_result"
    }
   ],
   "source": [
    "# Loading the dataset for Washington DC\n",
    "washingtondc = pd.read_csv('data/washingtondc.csv')\n",
    "washingtondc.head()"
   ]
  },
  {
   "cell_type": "code",
   "execution_count": 5,
   "id": "b3571894",
   "metadata": {},
   "outputs": [],
   "source": [
    "all_countries = pd.concat([washingtondc, kyoto, liestal])\n",
    "top_cities = all_countries['location'].value_counts().index[0:3].to_list()"
   ]
  },
  {
   "cell_type": "code",
   "execution_count": 6,
   "id": "ecaa01a6",
   "metadata": {},
   "outputs": [
    {
     "data": {
      "text/plain": [
       "(1062, 7)"
      ]
     },
     "execution_count": 6,
     "metadata": {},
     "output_type": "execute_result"
    }
   ],
   "source": [
    "all_countries.shape"
   ]
  },
  {
   "cell_type": "code",
   "execution_count": 7,
   "id": "0e51a9ba",
   "metadata": {},
   "outputs": [
    {
     "data": {
      "text/html": [
       "<div>\n",
       "<style scoped>\n",
       "    .dataframe tbody tr th:only-of-type {\n",
       "        vertical-align: middle;\n",
       "    }\n",
       "\n",
       "    .dataframe tbody tr th {\n",
       "        vertical-align: top;\n",
       "    }\n",
       "\n",
       "    .dataframe thead th {\n",
       "        text-align: right;\n",
       "    }\n",
       "</style>\n",
       "<table border=\"1\" class=\"dataframe\">\n",
       "  <thead>\n",
       "    <tr style=\"text-align: right;\">\n",
       "      <th></th>\n",
       "      <th>location</th>\n",
       "      <th>lat</th>\n",
       "      <th>long</th>\n",
       "      <th>alt</th>\n",
       "      <th>year</th>\n",
       "      <th>bloom_date</th>\n",
       "      <th>bloom_doy</th>\n",
       "    </tr>\n",
       "  </thead>\n",
       "  <tbody>\n",
       "    <tr>\n",
       "      <th>0</th>\n",
       "      <td>washingtondc</td>\n",
       "      <td>38.88535</td>\n",
       "      <td>-77.038628</td>\n",
       "      <td>0</td>\n",
       "      <td>1921</td>\n",
       "      <td>1921-03-20</td>\n",
       "      <td>79</td>\n",
       "    </tr>\n",
       "    <tr>\n",
       "      <th>1</th>\n",
       "      <td>washingtondc</td>\n",
       "      <td>38.88535</td>\n",
       "      <td>-77.038628</td>\n",
       "      <td>0</td>\n",
       "      <td>1922</td>\n",
       "      <td>1922-04-07</td>\n",
       "      <td>97</td>\n",
       "    </tr>\n",
       "    <tr>\n",
       "      <th>2</th>\n",
       "      <td>washingtondc</td>\n",
       "      <td>38.88535</td>\n",
       "      <td>-77.038628</td>\n",
       "      <td>0</td>\n",
       "      <td>1923</td>\n",
       "      <td>1923-04-09</td>\n",
       "      <td>99</td>\n",
       "    </tr>\n",
       "    <tr>\n",
       "      <th>3</th>\n",
       "      <td>washingtondc</td>\n",
       "      <td>38.88535</td>\n",
       "      <td>-77.038628</td>\n",
       "      <td>0</td>\n",
       "      <td>1924</td>\n",
       "      <td>1924-04-13</td>\n",
       "      <td>104</td>\n",
       "    </tr>\n",
       "    <tr>\n",
       "      <th>4</th>\n",
       "      <td>washingtondc</td>\n",
       "      <td>38.88535</td>\n",
       "      <td>-77.038628</td>\n",
       "      <td>0</td>\n",
       "      <td>1925</td>\n",
       "      <td>1925-03-27</td>\n",
       "      <td>86</td>\n",
       "    </tr>\n",
       "  </tbody>\n",
       "</table>\n",
       "</div>"
      ],
      "text/plain": [
       "       location       lat       long  alt  year  bloom_date  bloom_doy\n",
       "0  washingtondc  38.88535 -77.038628    0  1921  1921-03-20         79\n",
       "1  washingtondc  38.88535 -77.038628    0  1922  1922-04-07         97\n",
       "2  washingtondc  38.88535 -77.038628    0  1923  1923-04-09         99\n",
       "3  washingtondc  38.88535 -77.038628    0  1924  1924-04-13        104\n",
       "4  washingtondc  38.88535 -77.038628    0  1925  1925-03-27         86"
      ]
     },
     "execution_count": 7,
     "metadata": {},
     "output_type": "execute_result"
    }
   ],
   "source": [
    "all_countries.head()"
   ]
  },
  {
   "cell_type": "code",
   "execution_count": 8,
   "id": "7de7b2fe",
   "metadata": {},
   "outputs": [
    {
     "data": {
      "image/png": "[encoded data removed]",
      "text/plain": [
       "<Figure size 1152x432 with 3 Axes>"
      ]
     },
     "metadata": {
      "needs_background": "light"
     },
     "output_type": "display_data"
    }
   ],
   "source": [
    "fig, ax = plt.subplots(1, 3, figsize=(16, 6))\n",
    "ax[0].plot(all_countries[all_countries['location'] == top_cities[0]]['year'], \n",
    "              all_countries[all_countries['location'] == top_cities[0]]['bloom_doy'], 'o')\n",
    "ax[0].set_xlabel('Year')\n",
    "ax[0].set_ylabel('Peak bloom (days since Jan 1st)')\n",
    "ax[0].set_title(top_cities[0])\n",
    "ax[1].plot(all_countries[all_countries['location'] == top_cities[1]]['year'], \n",
    "              all_countries[all_countries['location'] == top_cities[1]]['bloom_doy'], 'o')\n",
    "ax[1].set_xlabel('Year')\n",
    "ax[1].set_title(top_cities[1])\n",
    "ax[2].plot(all_countries[all_countries['location'] == top_cities[2]]['year'], \n",
    "              all_countries[all_countries['location'] == top_cities[2]]['bloom_doy'], 'o')\n",
    "ax[2].set_xlabel('Year')\n",
    "ax[2].set_title(top_cities[2])\n",
    "plt.tight_layout()"
   ]
  },
  {
   "cell_type": "code",
   "execution_count": 9,
   "id": "de901b52",
   "metadata": {},
   "outputs": [
    {
     "data": {
      "text/html": [
       "<div>\n",
       "<style scoped>\n",
       "    .dataframe tbody tr th:only-of-type {\n",
       "        vertical-align: middle;\n",
       "    }\n",
       "\n",
       "    .dataframe tbody tr th {\n",
       "        vertical-align: top;\n",
       "    }\n",
       "\n",
       "    .dataframe thead th {\n",
       "        text-align: right;\n",
       "    }\n",
       "</style>\n",
       "<table border=\"1\" class=\"dataframe\">\n",
       "  <thead>\n",
       "    <tr style=\"text-align: right;\">\n",
       "      <th></th>\n",
       "      <th>lat</th>\n",
       "      <th>long</th>\n",
       "      <th>alt</th>\n",
       "      <th>location_kyoto</th>\n",
       "      <th>location_liestal</th>\n",
       "      <th>location_washingtondc</th>\n",
       "    </tr>\n",
       "  </thead>\n",
       "  <tbody>\n",
       "    <tr>\n",
       "      <th>0</th>\n",
       "      <td>38.88535</td>\n",
       "      <td>-77.038628</td>\n",
       "      <td>0</td>\n",
       "      <td>0</td>\n",
       "      <td>0</td>\n",
       "      <td>1</td>\n",
       "    </tr>\n",
       "    <tr>\n",
       "      <th>1</th>\n",
       "      <td>38.88535</td>\n",
       "      <td>-77.038628</td>\n",
       "      <td>0</td>\n",
       "      <td>0</td>\n",
       "      <td>0</td>\n",
       "      <td>1</td>\n",
       "    </tr>\n",
       "    <tr>\n",
       "      <th>2</th>\n",
       "      <td>38.88535</td>\n",
       "      <td>-77.038628</td>\n",
       "      <td>0</td>\n",
       "      <td>0</td>\n",
       "      <td>0</td>\n",
       "      <td>1</td>\n",
       "    </tr>\n",
       "    <tr>\n",
       "      <th>3</th>\n",
       "      <td>38.88535</td>\n",
       "      <td>-77.038628</td>\n",
       "      <td>0</td>\n",
       "      <td>0</td>\n",
       "      <td>0</td>\n",
       "      <td>1</td>\n",
       "    </tr>\n",
       "    <tr>\n",
       "      <th>4</th>\n",
       "      <td>38.88535</td>\n",
       "      <td>-77.038628</td>\n",
       "      <td>0</td>\n",
       "      <td>0</td>\n",
       "      <td>0</td>\n",
       "      <td>1</td>\n",
       "    </tr>\n",
       "  </tbody>\n",
       "</table>\n",
       "</div>"
      ],
      "text/plain": [
       "        lat       long  alt  location_kyoto  location_liestal  \\\n",
       "0  38.88535 -77.038628    0               0                 0   \n",
       "1  38.88535 -77.038628    0               0                 0   \n",
       "2  38.88535 -77.038628    0               0                 0   \n",
       "3  38.88535 -77.038628    0               0                 0   \n",
       "4  38.88535 -77.038628    0               0                 0   \n",
       "\n",
       "   location_washingtondc  \n",
       "0                      1  \n",
       "1                      1  \n",
       "2                      1  \n",
       "3                      1  \n",
       "4                      1  "
      ]
     },
     "execution_count": 9,
     "metadata": {},
     "output_type": "execute_result"
    }
   ],
   "source": [
    "X = all_countries.drop(['bloom_doy', 'bloom_date', 'year'], axis=1)\n",
    "Y = all_countries['bloom_doy']\n",
    "X = pd.get_dummies(X, columns=['location'])\n",
    "X.head()"
   ]
  },
  {
   "cell_type": "code",
   "execution_count": 10,
   "id": "2b446cc0",
   "metadata": {},
   "outputs": [],
   "source": [
    "from sklearn.model_selection import train_test_split\n",
    "from sklearn.linear_model import LinearRegression\n",
    "from sklearn.preprocessing import StandardScaler\n",
    "from sklearn.preprocessing import LabelEncoder"
   ]
  },
  {
   "cell_type": "code",
   "execution_count": 11,
   "id": "1af6ce99",
   "metadata": {},
   "outputs": [],
   "source": [
    "X_train, X_test, Y_train, Y_test = train_test_split(X, Y, test_size=0.30, random_state=101)"
   ]
  },
  {
   "cell_type": "code",
   "execution_count": 12,
   "id": "c1ddc18a",
   "metadata": {},
   "outputs": [],
   "source": [
    "model = LinearRegression()"
   ]
  },
  {
   "cell_type": "code",
   "execution_count": 13,
   "id": "8b62654e",
   "metadata": {},
   "outputs": [
    {
     "data": {
      "text/plain": [
       "LinearRegression()"
      ]
     },
     "execution_count": 13,
     "metadata": {},
     "output_type": "execute_result"
    }
   ],
   "source": [
    "model.fit(X_train, Y_train)"
   ]
  },
  {
   "cell_type": "code",
   "execution_count": 14,
   "id": "2938571f",
   "metadata": {},
   "outputs": [],
   "source": [
    "test_predictions = model.predict(X_test).round().astype('int')"
   ]
  },
  {
   "cell_type": "code",
   "execution_count": 15,
   "id": "0d5603e1",
   "metadata": {},
   "outputs": [
    {
     "data": {
      "text/plain": [
       "array([-8.58251523e-04,  4.38157107e-02,  7.08275857e-03,  2.08357372e-04,\n",
       "       -5.95704509e-06, -2.02400326e-04])"
      ]
     },
     "execution_count": 15,
     "metadata": {},
     "output_type": "execute_result"
    }
   ],
   "source": [
    "model.coef_"
   ]
  },
  {
   "cell_type": "code",
   "execution_count": 16,
   "id": "61d80bd5",
   "metadata": {},
   "outputs": [],
   "source": [
    "from sklearn.metrics import mean_absolute_error, mean_squared_error, accuracy_score"
   ]
  },
  {
   "cell_type": "code",
   "execution_count": 17,
   "id": "ae9c1ebd",
   "metadata": {},
   "outputs": [
    {
     "data": {
      "text/plain": [
       "5.579937304075235"
      ]
     },
     "execution_count": 17,
     "metadata": {},
     "output_type": "execute_result"
    }
   ],
   "source": [
    "# Calculating the Mean Absolute Error\n",
    "mean_absolute_error(Y_test, test_predictions)"
   ]
  },
  {
   "cell_type": "code",
   "execution_count": 18,
   "id": "524afaac",
   "metadata": {},
   "outputs": [
    {
     "data": {
      "text/plain": [
       "88     104\n",
       "664    102\n",
       "254    111\n",
       "166    116\n",
       "647    114\n",
       "      ... \n",
       "54     116\n",
       "686     99\n",
       "5       93\n",
       "540    104\n",
       "77      86\n",
       "Name: bloom_doy, Length: 319, dtype: int64"
      ]
     },
     "execution_count": 18,
     "metadata": {},
     "output_type": "execute_result"
    }
   ],
   "source": [
    "Y_test"
   ]
  },
  {
   "cell_type": "code",
   "execution_count": 19,
   "id": "74323c8b",
   "metadata": {},
   "outputs": [
    {
     "data": {
      "text/plain": [
       "array([104, 104, 104, 104, 104, 104, 104, 101, 104, 101, 104,  95, 104,\n",
       "       104, 104, 104, 104, 104,  95, 101, 101, 104, 104, 104, 104, 104,\n",
       "       104, 104, 101, 101, 104, 104, 104, 104, 104,  95, 101, 104, 104,\n",
       "       101, 104, 104, 104, 101, 104, 101,  95, 104, 104, 101, 101, 104,\n",
       "       104, 104, 104, 104, 104, 101, 104, 104, 104, 104, 104, 104, 104,\n",
       "       104, 104, 104, 104, 104, 101, 104, 104, 104, 104, 104, 104, 104,\n",
       "       104,  95, 104, 104,  95,  95,  95,  95, 104,  95,  95, 104, 104,\n",
       "        95, 104, 104, 104, 104, 104, 104, 104, 104, 104, 104, 104, 104,\n",
       "       104, 104, 101, 104, 104, 101, 104, 104,  95, 104, 104, 104, 104,\n",
       "       104, 104, 104, 104, 104, 104, 104, 104, 101, 104, 104, 101, 104,\n",
       "       104, 104, 104, 104, 101, 104,  95, 104, 104, 104, 104, 104, 104,\n",
       "       104, 104, 104, 104, 104, 104, 104, 101, 104, 101, 104, 104,  95,\n",
       "       104, 104, 104, 104,  95, 104, 104, 104, 104, 104, 104, 101, 104,\n",
       "       101, 104, 104, 104, 101, 104, 104, 104, 101, 104, 104, 104, 104,\n",
       "       104, 104, 104, 104,  95, 104, 104,  95, 104, 104, 104, 104,  95,\n",
       "        95, 104, 101, 104, 104, 101, 104, 104, 104, 104, 104, 104, 104,\n",
       "       104, 104, 101, 104, 104, 101, 104, 104,  95, 104, 104, 104, 104,\n",
       "       104,  95, 104, 104, 104, 101, 104, 104, 104, 101, 104, 104, 104,\n",
       "       104, 104, 104, 104, 104, 104, 104, 104, 104, 104, 101, 101, 104,\n",
       "       104, 104, 104, 104, 104, 101,  95, 104, 104, 104, 104, 104, 101,\n",
       "       104, 104, 104, 101,  95, 104, 104, 104, 104, 104, 104, 104, 104,\n",
       "       104, 104, 104, 104, 101, 104, 104, 104, 104, 104, 101, 104, 104,\n",
       "       104, 104, 104, 104, 104, 104, 104, 104, 104, 104, 104, 101, 104,\n",
       "       104, 104, 104, 104, 104, 104, 104, 104, 104, 104, 104, 104, 104,\n",
       "       104, 104, 104, 104, 101, 104,  95])"
      ]
     },
     "execution_count": 19,
     "metadata": {},
     "output_type": "execute_result"
    }
   ],
   "source": [
    "# Predicted values\n",
    "test_predictions"
   ]
  },
  {
   "cell_type": "code",
   "execution_count": 20,
   "id": "1e2b3abd",
   "metadata": {},
   "outputs": [
    {
     "data": {
      "text/plain": [
       "50.877742946708466"
      ]
     },
     "execution_count": 20,
     "metadata": {},
     "output_type": "execute_result"
    }
   ],
   "source": [
    "# Calculating the mean squared error\n",
    "mean_squared_error(Y_test, test_predictions)"
   ]
  },
  {
   "cell_type": "code",
   "execution_count": 21,
   "id": "1f88e225",
   "metadata": {},
   "outputs": [
    {
     "data": {
      "text/plain": [
       "7.1328635867166605"
      ]
     },
     "execution_count": 21,
     "metadata": {},
     "output_type": "execute_result"
    }
   ],
   "source": [
    "# Calculating the root mean squared error, RMSE\n",
    "np.sqrt(mean_squared_error(Y_test, test_predictions))"
   ]
  },
  {
   "cell_type": "code",
   "execution_count": 22,
   "id": "4539beeb",
   "metadata": {},
   "outputs": [],
   "source": [
    "test_residuals = Y_test - test_predictions"
   ]
  },
  {
   "cell_type": "code",
   "execution_count": 23,
   "id": "1f605acb",
   "metadata": {},
   "outputs": [
    {
     "data": {
      "text/plain": [
       "<matplotlib.lines.Line2D at 0x1859e52e310>"
      ]
     },
     "execution_count": 23,
     "metadata": {},
     "output_type": "execute_result"
    },
    {
     "data": {
      "image/png": "[encoded data removed]",
      "text/plain": [
       "<Figure size 432x288 with 1 Axes>"
      ]
     },
     "metadata": {
      "needs_background": "light"
     },
     "output_type": "display_data"
    }
   ],
   "source": [
    "# residual plot\n",
    "sns.scatterplot(x=Y_test, y=test_residuals)\n",
    "plt.axhline(y=0, c='red', ls='--')"
   ]
  },
  {
   "cell_type": "code",
   "execution_count": 24,
   "id": "34cf6ebe",
   "metadata": {},
   "outputs": [
    {
     "data": {
      "text/plain": [
       "97.96170962197161"
      ]
     },
     "execution_count": 24,
     "metadata": {},
     "output_type": "execute_result"
    }
   ],
   "source": [
    "model.intercept_"
   ]
  },
  {
   "cell_type": "code",
   "execution_count": 25,
   "id": "ad488342",
   "metadata": {},
   "outputs": [],
   "source": [
    "test_predictions = [round(pred) for pred in test_predictions]\n",
    "avg_no_of_days = round(np.mean(test_predictions))"
   ]
  },
  {
   "cell_type": "code",
   "execution_count": 26,
   "id": "a86e3bd7",
   "metadata": {},
   "outputs": [
    {
     "data": {
      "text/plain": [
       "103"
      ]
     },
     "execution_count": 26,
     "metadata": {},
     "output_type": "execute_result"
    }
   ],
   "source": [
    "avg_no_of_days"
   ]
  },
  {
   "cell_type": "code",
   "execution_count": 27,
   "id": "afce5bf9",
   "metadata": {},
   "outputs": [
    {
     "name": "stdout",
     "output_type": "stream",
     "text": [
      "The earliest predicted blossom date:  95\n"
     ]
    }
   ],
   "source": [
    "print('The earliest predicted blossom date: ', min(test_predictions))"
   ]
  },
  {
   "cell_type": "code",
   "execution_count": 28,
   "id": "bb4f430f",
   "metadata": {},
   "outputs": [
    {
     "name": "stdout",
     "output_type": "stream",
     "text": [
      "The latest predicted blossom date:  104\n"
     ]
    }
   ],
   "source": [
    "print('The latest predicted blossom date: ', max(test_predictions))"
   ]
  },
  {
   "cell_type": "code",
   "execution_count": null,
   "id": "b86d3bdf",
   "metadata": {},
   "outputs": [],
   "source": []
  }
 ],
 "metadata": {
  "kernelspec": {
   "display_name": "Python 3 (ipykernel)",
   "language": "python",
   "name": "python3"
  },
  "language_info": {
   "codemirror_mode": {
    "name": "ipython",
    "version": 3
   },
   "file_extension": ".py",
   "mimetype": "text/x-python",
   "name": "python",
   "nbconvert_exporter": "python",
   "pygments_lexer": "ipython3",
   "version": "3.9.7"
  }
 },
 "nbformat": 4,
 "nbformat_minor": 5
}
