{
 "cells": [
  {
   "cell_type": "code",
   "execution_count": 1,
   "id": "23d5dbc8",
   "metadata": {},
   "outputs": [],
   "source": [
    "import pandas as pd\n",
    "import matplotlib.pyplot as plt\n",
    "import numpy as np\n",
    "import seaborn as sns"
   ]
  },
  {
   "cell_type": "code",
   "execution_count": 2,
   "id": "5607b46b",
   "metadata": {},
   "outputs": [],
   "source": [
    "# Loading the dataset for Kyoto\n",
    "kyoto = pd.read_csv('data/kyoto.csv')"
   ]
  },
  {
   "cell_type": "code",
   "execution_count": 3,
   "id": "2b64f141",
   "metadata": {},
   "outputs": [],
   "source": [
    "# Loading the dataset for Liestal\n",
    "liestal = pd.read_csv('data/liestal.csv')"
   ]
  },
  {
   "cell_type": "code",
   "execution_count": 4,
   "id": "f30c9f3c",
   "metadata": {},
   "outputs": [],
   "source": [
    "# Loading the dataset for Washington DC\n",
    "washingtondc = pd.read_csv('data/washingtondc.csv')"
   ]
  },
  {
   "cell_type": "code",
   "execution_count": 5,
   "id": "5ef4ca1b",
   "metadata": {},
   "outputs": [],
   "source": [
    "all_places = pd.concat([washingtondc, kyoto, liestal])"
   ]
  },
  {
   "cell_type": "code",
   "execution_count": 6,
   "id": "6ca847bb",
   "metadata": {},
   "outputs": [
    {
     "data": {
      "text/html": [
       "<div>\n",
       "<style scoped>\n",
       "    .dataframe tbody tr th:only-of-type {\n",
       "        vertical-align: middle;\n",
       "    }\n",
       "\n",
       "    .dataframe tbody tr th {\n",
       "        vertical-align: top;\n",
       "    }\n",
       "\n",
       "    .dataframe thead th {\n",
       "        text-align: right;\n",
       "    }\n",
       "</style>\n",
       "<table border=\"1\" class=\"dataframe\">\n",
       "  <thead>\n",
       "    <tr style=\"text-align: right;\">\n",
       "      <th></th>\n",
       "      <th>location</th>\n",
       "      <th>lat</th>\n",
       "      <th>long</th>\n",
       "      <th>alt</th>\n",
       "      <th>year</th>\n",
       "      <th>bloom_date</th>\n",
       "      <th>bloom_doy</th>\n",
       "    </tr>\n",
       "  </thead>\n",
       "  <tbody>\n",
       "    <tr>\n",
       "      <th>0</th>\n",
       "      <td>washingtondc</td>\n",
       "      <td>38.88535</td>\n",
       "      <td>-77.038628</td>\n",
       "      <td>0</td>\n",
       "      <td>1921</td>\n",
       "      <td>1921-03-20</td>\n",
       "      <td>79</td>\n",
       "    </tr>\n",
       "    <tr>\n",
       "      <th>1</th>\n",
       "      <td>washingtondc</td>\n",
       "      <td>38.88535</td>\n",
       "      <td>-77.038628</td>\n",
       "      <td>0</td>\n",
       "      <td>1922</td>\n",
       "      <td>1922-04-07</td>\n",
       "      <td>97</td>\n",
       "    </tr>\n",
       "    <tr>\n",
       "      <th>2</th>\n",
       "      <td>washingtondc</td>\n",
       "      <td>38.88535</td>\n",
       "      <td>-77.038628</td>\n",
       "      <td>0</td>\n",
       "      <td>1923</td>\n",
       "      <td>1923-04-09</td>\n",
       "      <td>99</td>\n",
       "    </tr>\n",
       "    <tr>\n",
       "      <th>3</th>\n",
       "      <td>washingtondc</td>\n",
       "      <td>38.88535</td>\n",
       "      <td>-77.038628</td>\n",
       "      <td>0</td>\n",
       "      <td>1924</td>\n",
       "      <td>1924-04-13</td>\n",
       "      <td>104</td>\n",
       "    </tr>\n",
       "    <tr>\n",
       "      <th>4</th>\n",
       "      <td>washingtondc</td>\n",
       "      <td>38.88535</td>\n",
       "      <td>-77.038628</td>\n",
       "      <td>0</td>\n",
       "      <td>1925</td>\n",
       "      <td>1925-03-27</td>\n",
       "      <td>86</td>\n",
       "    </tr>\n",
       "  </tbody>\n",
       "</table>\n",
       "</div>"
      ],
      "text/plain": [
       "       location       lat       long  alt  year  bloom_date  bloom_doy\n",
       "0  washingtondc  38.88535 -77.038628    0  1921  1921-03-20         79\n",
       "1  washingtondc  38.88535 -77.038628    0  1922  1922-04-07         97\n",
       "2  washingtondc  38.88535 -77.038628    0  1923  1923-04-09         99\n",
       "3  washingtondc  38.88535 -77.038628    0  1924  1924-04-13        104\n",
       "4  washingtondc  38.88535 -77.038628    0  1925  1925-03-27         86"
      ]
     },
     "execution_count": 6,
     "metadata": {},
     "output_type": "execute_result"
    }
   ],
   "source": [
    "all_places.head()"
   ]
  },
  {
   "cell_type": "code",
   "execution_count": 7,
   "id": "d5ef25f6",
   "metadata": {},
   "outputs": [
    {
     "data": {
      "text/html": [
       "<div>\n",
       "<style scoped>\n",
       "    .dataframe tbody tr th:only-of-type {\n",
       "        vertical-align: middle;\n",
       "    }\n",
       "\n",
       "    .dataframe tbody tr th {\n",
       "        vertical-align: top;\n",
       "    }\n",
       "\n",
       "    .dataframe thead th {\n",
       "        text-align: right;\n",
       "    }\n",
       "</style>\n",
       "<table border=\"1\" class=\"dataframe\">\n",
       "  <thead>\n",
       "    <tr style=\"text-align: right;\">\n",
       "      <th></th>\n",
       "      <th>location</th>\n",
       "      <th>lat</th>\n",
       "      <th>long</th>\n",
       "      <th>alt</th>\n",
       "      <th>year</th>\n",
       "      <th>bloom_date</th>\n",
       "      <th>bloom_doy</th>\n",
       "    </tr>\n",
       "  </thead>\n",
       "  <tbody>\n",
       "    <tr>\n",
       "      <th>123</th>\n",
       "      <td>liestal</td>\n",
       "      <td>47.4814</td>\n",
       "      <td>7.730519</td>\n",
       "      <td>350</td>\n",
       "      <td>2017</td>\n",
       "      <td>2017-03-26</td>\n",
       "      <td>85</td>\n",
       "    </tr>\n",
       "    <tr>\n",
       "      <th>124</th>\n",
       "      <td>liestal</td>\n",
       "      <td>47.4814</td>\n",
       "      <td>7.730519</td>\n",
       "      <td>350</td>\n",
       "      <td>2018</td>\n",
       "      <td>2018-04-08</td>\n",
       "      <td>98</td>\n",
       "    </tr>\n",
       "    <tr>\n",
       "      <th>125</th>\n",
       "      <td>liestal</td>\n",
       "      <td>47.4814</td>\n",
       "      <td>7.730519</td>\n",
       "      <td>350</td>\n",
       "      <td>2019</td>\n",
       "      <td>2019-03-27</td>\n",
       "      <td>86</td>\n",
       "    </tr>\n",
       "    <tr>\n",
       "      <th>126</th>\n",
       "      <td>liestal</td>\n",
       "      <td>47.4814</td>\n",
       "      <td>7.730519</td>\n",
       "      <td>350</td>\n",
       "      <td>2020</td>\n",
       "      <td>2020-03-17</td>\n",
       "      <td>77</td>\n",
       "    </tr>\n",
       "    <tr>\n",
       "      <th>127</th>\n",
       "      <td>liestal</td>\n",
       "      <td>47.4814</td>\n",
       "      <td>7.730519</td>\n",
       "      <td>350</td>\n",
       "      <td>2021</td>\n",
       "      <td>2021-03-28</td>\n",
       "      <td>87</td>\n",
       "    </tr>\n",
       "  </tbody>\n",
       "</table>\n",
       "</div>"
      ],
      "text/plain": [
       "    location      lat      long  alt  year  bloom_date  bloom_doy\n",
       "123  liestal  47.4814  7.730519  350  2017  2017-03-26         85\n",
       "124  liestal  47.4814  7.730519  350  2018  2018-04-08         98\n",
       "125  liestal  47.4814  7.730519  350  2019  2019-03-27         86\n",
       "126  liestal  47.4814  7.730519  350  2020  2020-03-17         77\n",
       "127  liestal  47.4814  7.730519  350  2021  2021-03-28         87"
      ]
     },
     "execution_count": 7,
     "metadata": {},
     "output_type": "execute_result"
    }
   ],
   "source": [
    "all_places.tail()"
   ]
  },
  {
   "cell_type": "code",
   "execution_count": 8,
   "id": "504673b5",
   "metadata": {},
   "outputs": [
    {
     "name": "stdout",
     "output_type": "stream",
     "text": [
      "<class 'pandas.core.frame.DataFrame'>\n",
      "Int64Index: 1062 entries, 0 to 127\n",
      "Data columns (total 7 columns):\n",
      " #   Column      Non-Null Count  Dtype  \n",
      "---  ------      --------------  -----  \n",
      " 0   location    1062 non-null   object \n",
      " 1   lat         1062 non-null   float64\n",
      " 2   long        1062 non-null   float64\n",
      " 3   alt         1062 non-null   int64  \n",
      " 4   year        1062 non-null   int64  \n",
      " 5   bloom_date  1062 non-null   object \n",
      " 6   bloom_doy   1062 non-null   int64  \n",
      "dtypes: float64(2), int64(3), object(2)\n",
      "memory usage: 66.4+ KB\n"
     ]
    }
   ],
   "source": [
    "all_places.info()"
   ]
  },
  {
   "cell_type": "code",
   "execution_count": 9,
   "id": "361538e0",
   "metadata": {},
   "outputs": [
    {
     "data": {
      "text/html": [
       "<div>\n",
       "<style scoped>\n",
       "    .dataframe tbody tr th:only-of-type {\n",
       "        vertical-align: middle;\n",
       "    }\n",
       "\n",
       "    .dataframe tbody tr th {\n",
       "        vertical-align: top;\n",
       "    }\n",
       "\n",
       "    .dataframe thead th {\n",
       "        text-align: right;\n",
       "    }\n",
       "</style>\n",
       "<table border=\"1\" class=\"dataframe\">\n",
       "  <thead>\n",
       "    <tr style=\"text-align: right;\">\n",
       "      <th></th>\n",
       "      <th>lat</th>\n",
       "      <th>long</th>\n",
       "      <th>alt</th>\n",
       "      <th>year</th>\n",
       "      <th>bloom_doy</th>\n",
       "    </tr>\n",
       "  </thead>\n",
       "  <tbody>\n",
       "    <tr>\n",
       "      <th>count</th>\n",
       "      <td>1062.000000</td>\n",
       "      <td>1062.000000</td>\n",
       "      <td>1062.000000</td>\n",
       "      <td>1062.000000</td>\n",
       "      <td>1062.000000</td>\n",
       "    </tr>\n",
       "    <tr>\n",
       "      <th>mean</th>\n",
       "      <td>36.883259</td>\n",
       "      <td>100.025243</td>\n",
       "      <td>76.696798</td>\n",
       "      <td>1640.898305</td>\n",
       "      <td>103.036723</td>\n",
       "    </tr>\n",
       "    <tr>\n",
       "      <th>std</th>\n",
       "      <td>4.084265</td>\n",
       "      <td>70.781205</td>\n",
       "      <td>102.032042</td>\n",
       "      <td>319.594611</td>\n",
       "      <td>7.909810</td>\n",
       "    </tr>\n",
       "    <tr>\n",
       "      <th>min</th>\n",
       "      <td>35.011983</td>\n",
       "      <td>-77.038628</td>\n",
       "      <td>0.000000</td>\n",
       "      <td>812.000000</td>\n",
       "      <td>74.000000</td>\n",
       "    </tr>\n",
       "    <tr>\n",
       "      <th>25%</th>\n",
       "      <td>35.011983</td>\n",
       "      <td>135.676114</td>\n",
       "      <td>44.000000</td>\n",
       "      <td>1421.250000</td>\n",
       "      <td>98.000000</td>\n",
       "    </tr>\n",
       "    <tr>\n",
       "      <th>50%</th>\n",
       "      <td>35.011983</td>\n",
       "      <td>135.676114</td>\n",
       "      <td>44.000000</td>\n",
       "      <td>1713.500000</td>\n",
       "      <td>104.000000</td>\n",
       "    </tr>\n",
       "    <tr>\n",
       "      <th>75%</th>\n",
       "      <td>35.011983</td>\n",
       "      <td>135.676114</td>\n",
       "      <td>44.000000</td>\n",
       "      <td>1932.750000</td>\n",
       "      <td>108.000000</td>\n",
       "    </tr>\n",
       "    <tr>\n",
       "      <th>max</th>\n",
       "      <td>47.481400</td>\n",
       "      <td>135.676114</td>\n",
       "      <td>350.000000</td>\n",
       "      <td>2021.000000</td>\n",
       "      <td>124.000000</td>\n",
       "    </tr>\n",
       "  </tbody>\n",
       "</table>\n",
       "</div>"
      ],
      "text/plain": [
       "               lat         long          alt         year    bloom_doy\n",
       "count  1062.000000  1062.000000  1062.000000  1062.000000  1062.000000\n",
       "mean     36.883259   100.025243    76.696798  1640.898305   103.036723\n",
       "std       4.084265    70.781205   102.032042   319.594611     7.909810\n",
       "min      35.011983   -77.038628     0.000000   812.000000    74.000000\n",
       "25%      35.011983   135.676114    44.000000  1421.250000    98.000000\n",
       "50%      35.011983   135.676114    44.000000  1713.500000   104.000000\n",
       "75%      35.011983   135.676114    44.000000  1932.750000   108.000000\n",
       "max      47.481400   135.676114   350.000000  2021.000000   124.000000"
      ]
     },
     "execution_count": 9,
     "metadata": {},
     "output_type": "execute_result"
    }
   ],
   "source": [
    "all_places.describe()"
   ]
  },
  {
   "cell_type": "code",
   "execution_count": 10,
   "id": "9900a7f9",
   "metadata": {},
   "outputs": [],
   "source": [
    "X = all_places.drop(['bloom_date', 'year'], axis=1)"
   ]
  },
  {
   "cell_type": "code",
   "execution_count": 11,
   "id": "5b16bb7e",
   "metadata": {},
   "outputs": [],
   "source": [
    "X = pd.get_dummies(X, columns=['location'])"
   ]
  },
  {
   "cell_type": "code",
   "execution_count": 12,
   "id": "69067f19",
   "metadata": {},
   "outputs": [],
   "source": [
    "X = X.drop('bloom_doy', axis=1)"
   ]
  },
  {
   "cell_type": "code",
   "execution_count": 13,
   "id": "67da41dc",
   "metadata": {},
   "outputs": [],
   "source": [
    "Y = all_places['bloom_doy']"
   ]
  },
  {
   "cell_type": "code",
   "execution_count": 14,
   "id": "0a5f9ba1",
   "metadata": {},
   "outputs": [],
   "source": [
    "from sklearn.model_selection import train_test_split"
   ]
  },
  {
   "cell_type": "code",
   "execution_count": 15,
   "id": "436c2ad6",
   "metadata": {},
   "outputs": [],
   "source": [
    "X_train, X_test, y_train, y_test = train_test_split(X, Y, test_size=0.3, random_state=101)"
   ]
  },
  {
   "cell_type": "code",
   "execution_count": 16,
   "id": "e9392780",
   "metadata": {},
   "outputs": [],
   "source": [
    "from sklearn.tree import DecisionTreeRegressor"
   ]
  },
  {
   "cell_type": "code",
   "execution_count": 17,
   "id": "38f64633",
   "metadata": {},
   "outputs": [],
   "source": [
    "dec_tree = DecisionTreeRegressor(criterion='squared_error', max_depth=10, min_samples_split=10, random_state=101)"
   ]
  },
  {
   "cell_type": "code",
   "execution_count": 18,
   "id": "38f491b9",
   "metadata": {},
   "outputs": [
    {
     "ename": "KeyError",
     "evalue": "'squared_error'",
     "output_type": "error",
     "traceback": [
      "\u001b[0;31m---------------------------------------------------------------------------\u001b[0m",
      "\u001b[0;31mKeyError\u001b[0m                                  Traceback (most recent call last)",
      "\u001b[0;32m/var/folders/fm/r5xq0lcx7n7g7b6ts0689znw0000gn/T/ipykernel_4679/2936200983.py\u001b[0m in \u001b[0;36m<module>\u001b[0;34m\u001b[0m\n\u001b[0;32m----> 1\u001b[0;31m \u001b[0mdec_tree\u001b[0m\u001b[0;34m.\u001b[0m\u001b[0mfit\u001b[0m\u001b[0;34m(\u001b[0m\u001b[0mX_train\u001b[0m\u001b[0;34m,\u001b[0m \u001b[0my_train\u001b[0m\u001b[0;34m)\u001b[0m\u001b[0;34m\u001b[0m\u001b[0;34m\u001b[0m\u001b[0m\n\u001b[0m",
      "\u001b[0;32m/opt/anaconda3/lib/python3.9/site-packages/sklearn/tree/_classes.py\u001b[0m in \u001b[0;36mfit\u001b[0;34m(self, X, y, sample_weight, check_input, X_idx_sorted)\u001b[0m\n\u001b[1;32m   1250\u001b[0m         \"\"\"\n\u001b[1;32m   1251\u001b[0m \u001b[0;34m\u001b[0m\u001b[0m\n\u001b[0;32m-> 1252\u001b[0;31m         super().fit(\n\u001b[0m\u001b[1;32m   1253\u001b[0m             \u001b[0mX\u001b[0m\u001b[0;34m,\u001b[0m \u001b[0my\u001b[0m\u001b[0;34m,\u001b[0m\u001b[0;34m\u001b[0m\u001b[0;34m\u001b[0m\u001b[0m\n\u001b[1;32m   1254\u001b[0m             \u001b[0msample_weight\u001b[0m\u001b[0;34m=\u001b[0m\u001b[0msample_weight\u001b[0m\u001b[0;34m,\u001b[0m\u001b[0;34m\u001b[0m\u001b[0;34m\u001b[0m\u001b[0m\n",
      "\u001b[0;32m/opt/anaconda3/lib/python3.9/site-packages/sklearn/tree/_classes.py\u001b[0m in \u001b[0;36mfit\u001b[0;34m(self, X, y, sample_weight, check_input, X_idx_sorted)\u001b[0m\n\u001b[1;32m    349\u001b[0m                                                          self.n_classes_)\n\u001b[1;32m    350\u001b[0m             \u001b[0;32melse\u001b[0m\u001b[0;34m:\u001b[0m\u001b[0;34m\u001b[0m\u001b[0;34m\u001b[0m\u001b[0m\n\u001b[0;32m--> 351\u001b[0;31m                 criterion = CRITERIA_REG[self.criterion](self.n_outputs_,\n\u001b[0m\u001b[1;32m    352\u001b[0m                                                          n_samples)\n\u001b[1;32m    353\u001b[0m         \u001b[0;32melse\u001b[0m\u001b[0;34m:\u001b[0m\u001b[0;34m\u001b[0m\u001b[0;34m\u001b[0m\u001b[0m\n",
      "\u001b[0;31mKeyError\u001b[0m: 'squared_error'"
     ]
    }
   ],
   "source": [
    "dec_tree.fit(X_train, y_train)"
   ]
  },
  {
   "cell_type": "code",
   "execution_count": null,
   "id": "9115223e",
   "metadata": {},
   "outputs": [],
   "source": [
    "test_predictions = dec_tree.predict(X_test)"
   ]
  },
  {
   "cell_type": "code",
   "execution_count": null,
   "id": "eb57dee4",
   "metadata": {},
   "outputs": [],
   "source": [
    "from sklearn.metrics import mean_absolute_error, mean_squared_error"
   ]
  },
  {
   "cell_type": "code",
   "execution_count": null,
   "id": "f3bf3fce",
   "metadata": {},
   "outputs": [],
   "source": [
    "MAE = mean_absolute_error(y_test, test_predictions)"
   ]
  },
  {
   "cell_type": "code",
   "execution_count": null,
   "id": "c2144740",
   "metadata": {},
   "outputs": [],
   "source": [
    "MAE"
   ]
  },
  {
   "cell_type": "code",
   "execution_count": null,
   "id": "c9ec176e",
   "metadata": {},
   "outputs": [],
   "source": [
    "MSE = mean_squared_error(y_test, test_predictions)"
   ]
  },
  {
   "cell_type": "code",
   "execution_count": null,
   "id": "2d84ebc4",
   "metadata": {},
   "outputs": [],
   "source": [
    "MSE"
   ]
  },
  {
   "cell_type": "code",
   "execution_count": null,
   "id": "b2d2cd12",
   "metadata": {},
   "outputs": [],
   "source": [
    "RMSE = np.sqrt(MSE)"
   ]
  },
  {
   "cell_type": "code",
   "execution_count": null,
   "id": "75a4660e",
   "metadata": {},
   "outputs": [],
   "source": [
    "RMSE"
   ]
  },
  {
   "cell_type": "code",
   "execution_count": null,
   "id": "5f18fe3b",
   "metadata": {},
   "outputs": [],
   "source": [
    "MAE"
   ]
  },
  {
   "cell_type": "code",
   "execution_count": null,
   "id": "2cc3c136",
   "metadata": {},
   "outputs": [],
   "source": [
    "MSE"
   ]
  },
  {
   "cell_type": "code",
   "execution_count": null,
   "id": "3cf7d633",
   "metadata": {},
   "outputs": [],
   "source": [
    "RMSE"
   ]
  },
  {
   "cell_type": "code",
   "execution_count": null,
   "id": "5e4e22ba",
   "metadata": {},
   "outputs": [],
   "source": [
    "from sklearn.model_selection import cross_val_score"
   ]
  },
  {
   "cell_type": "code",
   "execution_count": null,
   "id": "cb675b32",
   "metadata": {},
   "outputs": [],
   "source": [
    "cross_val_score(dec_tree, X_train, y_train, cv=10)"
   ]
  },
  {
   "cell_type": "code",
   "execution_count": null,
   "id": "10f545bb",
   "metadata": {},
   "outputs": [],
   "source": [
    "test_predictions = [round(pred) for pred in test_predictions]\n",
    "avg_no_of_days = round(np.mean(test_predictions))"
   ]
  },
  {
   "cell_type": "code",
   "execution_count": null,
   "id": "31850d51",
   "metadata": {},
   "outputs": [],
   "source": [
    "avg_no_of_days"
   ]
  },
  {
   "cell_type": "code",
   "execution_count": null,
   "id": "39e74cf2",
   "metadata": {},
   "outputs": [],
   "source": [
    "print('The earliest predicted blossom date: ', min(test_predictions))"
   ]
  },
  {
   "cell_type": "code",
   "execution_count": null,
   "id": "bc0a955e",
   "metadata": {},
   "outputs": [],
   "source": [
    "print('The latest predicted blossom date: ', max(test_predictions))"
   ]
  },
  {
   "cell_type": "code",
   "execution_count": null,
   "id": "3c969879",
   "metadata": {},
   "outputs": [],
   "source": []
  }
 ],
 "metadata": {
  "kernelspec": {
   "display_name": "Python 3 (ipykernel)",
   "language": "python",
   "name": "python3"
  },
  "language_info": {
   "codemirror_mode": {
    "name": "ipython",
    "version": 3
   },
   "file_extension": ".py",
   "mimetype": "text/x-python",
   "name": "python",
   "nbconvert_exporter": "python",
   "pygments_lexer": "ipython3",
   "version": "3.9.7"
  }
 },
 "nbformat": 4,
 "nbformat_minor": 5
}
