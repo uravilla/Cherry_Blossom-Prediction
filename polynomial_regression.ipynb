{
 "cells": [
  {
   "cell_type": "code",
   "execution_count": 1,
   "id": "9834dc04",
   "metadata": {},
   "outputs": [],
   "source": [
    "import pandas as pd\n",
    "import numpy as np\n",
    "import matplotlib.pyplot as plt\n",
    "import seaborn as sns"
   ]
  },
  {
   "cell_type": "code",
   "execution_count": 2,
   "id": "a5dba806",
   "metadata": {},
   "outputs": [],
   "source": [
    "# Loading the dataset for Kyoto\n",
    "kyoto = pd.read_csv('data/kyoto.csv')"
   ]
  },
  {
   "cell_type": "code",
   "execution_count": 3,
   "id": "0fe1f24e",
   "metadata": {},
   "outputs": [],
   "source": [
    "# Loading the dataset for Liestal\n",
    "liestal = pd.read_csv('data/liestal.csv')"
   ]
  },
  {
   "cell_type": "code",
   "execution_count": 4,
   "id": "73e4161f",
   "metadata": {},
   "outputs": [],
   "source": [
    "# Loading the dataset for Washington DC\n",
    "washingtondc = pd.read_csv('data/washingtondc.csv')"
   ]
  },
  {
   "cell_type": "code",
   "execution_count": 5,
   "id": "2b0b80dd",
   "metadata": {},
   "outputs": [
    {
     "data": {
      "text/html": [
       "<div>\n",
       "<style scoped>\n",
       "    .dataframe tbody tr th:only-of-type {\n",
       "        vertical-align: middle;\n",
       "    }\n",
       "\n",
       "    .dataframe tbody tr th {\n",
       "        vertical-align: top;\n",
       "    }\n",
       "\n",
       "    .dataframe thead th {\n",
       "        text-align: right;\n",
       "    }\n",
       "</style>\n",
       "<table border=\"1\" class=\"dataframe\">\n",
       "  <thead>\n",
       "    <tr style=\"text-align: right;\">\n",
       "      <th></th>\n",
       "      <th>location</th>\n",
       "      <th>lat</th>\n",
       "      <th>long</th>\n",
       "      <th>alt</th>\n",
       "      <th>year</th>\n",
       "      <th>bloom_date</th>\n",
       "      <th>bloom_doy</th>\n",
       "    </tr>\n",
       "  </thead>\n",
       "  <tbody>\n",
       "    <tr>\n",
       "      <th>0</th>\n",
       "      <td>washingtondc</td>\n",
       "      <td>38.88535</td>\n",
       "      <td>-77.038628</td>\n",
       "      <td>0</td>\n",
       "      <td>1921</td>\n",
       "      <td>1921-03-20</td>\n",
       "      <td>79</td>\n",
       "    </tr>\n",
       "    <tr>\n",
       "      <th>1</th>\n",
       "      <td>washingtondc</td>\n",
       "      <td>38.88535</td>\n",
       "      <td>-77.038628</td>\n",
       "      <td>0</td>\n",
       "      <td>1922</td>\n",
       "      <td>1922-04-07</td>\n",
       "      <td>97</td>\n",
       "    </tr>\n",
       "    <tr>\n",
       "      <th>2</th>\n",
       "      <td>washingtondc</td>\n",
       "      <td>38.88535</td>\n",
       "      <td>-77.038628</td>\n",
       "      <td>0</td>\n",
       "      <td>1923</td>\n",
       "      <td>1923-04-09</td>\n",
       "      <td>99</td>\n",
       "    </tr>\n",
       "    <tr>\n",
       "      <th>3</th>\n",
       "      <td>washingtondc</td>\n",
       "      <td>38.88535</td>\n",
       "      <td>-77.038628</td>\n",
       "      <td>0</td>\n",
       "      <td>1924</td>\n",
       "      <td>1924-04-13</td>\n",
       "      <td>104</td>\n",
       "    </tr>\n",
       "    <tr>\n",
       "      <th>4</th>\n",
       "      <td>washingtondc</td>\n",
       "      <td>38.88535</td>\n",
       "      <td>-77.038628</td>\n",
       "      <td>0</td>\n",
       "      <td>1925</td>\n",
       "      <td>1925-03-27</td>\n",
       "      <td>86</td>\n",
       "    </tr>\n",
       "  </tbody>\n",
       "</table>\n",
       "</div>"
      ],
      "text/plain": [
       "       location       lat       long  alt  year  bloom_date  bloom_doy\n",
       "0  washingtondc  38.88535 -77.038628    0  1921  1921-03-20         79\n",
       "1  washingtondc  38.88535 -77.038628    0  1922  1922-04-07         97\n",
       "2  washingtondc  38.88535 -77.038628    0  1923  1923-04-09         99\n",
       "3  washingtondc  38.88535 -77.038628    0  1924  1924-04-13        104\n",
       "4  washingtondc  38.88535 -77.038628    0  1925  1925-03-27         86"
      ]
     },
     "execution_count": 5,
     "metadata": {},
     "output_type": "execute_result"
    }
   ],
   "source": [
    "all_places = pd.concat([washingtondc, kyoto, liestal])\n",
    "all_places.head()"
   ]
  },
  {
   "cell_type": "code",
   "execution_count": 6,
   "id": "bf603633",
   "metadata": {},
   "outputs": [
    {
     "data": {
      "text/html": [
       "<div>\n",
       "<style scoped>\n",
       "    .dataframe tbody tr th:only-of-type {\n",
       "        vertical-align: middle;\n",
       "    }\n",
       "\n",
       "    .dataframe tbody tr th {\n",
       "        vertical-align: top;\n",
       "    }\n",
       "\n",
       "    .dataframe thead th {\n",
       "        text-align: right;\n",
       "    }\n",
       "</style>\n",
       "<table border=\"1\" class=\"dataframe\">\n",
       "  <thead>\n",
       "    <tr style=\"text-align: right;\">\n",
       "      <th></th>\n",
       "      <th>location</th>\n",
       "      <th>lat</th>\n",
       "      <th>long</th>\n",
       "      <th>alt</th>\n",
       "      <th>year</th>\n",
       "      <th>bloom_date</th>\n",
       "      <th>bloom_doy</th>\n",
       "    </tr>\n",
       "  </thead>\n",
       "  <tbody>\n",
       "    <tr>\n",
       "      <th>0</th>\n",
       "      <td>washingtondc</td>\n",
       "      <td>38.88535</td>\n",
       "      <td>-77.038628</td>\n",
       "      <td>0</td>\n",
       "      <td>1921</td>\n",
       "      <td>1921-03-20</td>\n",
       "      <td>79</td>\n",
       "    </tr>\n",
       "    <tr>\n",
       "      <th>1</th>\n",
       "      <td>washingtondc</td>\n",
       "      <td>38.88535</td>\n",
       "      <td>-77.038628</td>\n",
       "      <td>0</td>\n",
       "      <td>1922</td>\n",
       "      <td>1922-04-07</td>\n",
       "      <td>97</td>\n",
       "    </tr>\n",
       "    <tr>\n",
       "      <th>2</th>\n",
       "      <td>washingtondc</td>\n",
       "      <td>38.88535</td>\n",
       "      <td>-77.038628</td>\n",
       "      <td>0</td>\n",
       "      <td>1923</td>\n",
       "      <td>1923-04-09</td>\n",
       "      <td>99</td>\n",
       "    </tr>\n",
       "    <tr>\n",
       "      <th>3</th>\n",
       "      <td>washingtondc</td>\n",
       "      <td>38.88535</td>\n",
       "      <td>-77.038628</td>\n",
       "      <td>0</td>\n",
       "      <td>1924</td>\n",
       "      <td>1924-04-13</td>\n",
       "      <td>104</td>\n",
       "    </tr>\n",
       "    <tr>\n",
       "      <th>4</th>\n",
       "      <td>washingtondc</td>\n",
       "      <td>38.88535</td>\n",
       "      <td>-77.038628</td>\n",
       "      <td>0</td>\n",
       "      <td>1925</td>\n",
       "      <td>1925-03-27</td>\n",
       "      <td>86</td>\n",
       "    </tr>\n",
       "  </tbody>\n",
       "</table>\n",
       "</div>"
      ],
      "text/plain": [
       "       location       lat       long  alt  year  bloom_date  bloom_doy\n",
       "0  washingtondc  38.88535 -77.038628    0  1921  1921-03-20         79\n",
       "1  washingtondc  38.88535 -77.038628    0  1922  1922-04-07         97\n",
       "2  washingtondc  38.88535 -77.038628    0  1923  1923-04-09         99\n",
       "3  washingtondc  38.88535 -77.038628    0  1924  1924-04-13        104\n",
       "4  washingtondc  38.88535 -77.038628    0  1925  1925-03-27         86"
      ]
     },
     "execution_count": 6,
     "metadata": {},
     "output_type": "execute_result"
    }
   ],
   "source": [
    "all_places.head()"
   ]
  },
  {
   "cell_type": "code",
   "execution_count": 7,
   "id": "e56a0411",
   "metadata": {},
   "outputs": [],
   "source": [
    "X = all_places.drop(['bloom_doy', 'bloom_date', 'year'], axis=1)"
   ]
  },
  {
   "cell_type": "code",
   "execution_count": 8,
   "id": "3958a656",
   "metadata": {},
   "outputs": [],
   "source": [
    "Y = all_places['bloom_doy']"
   ]
  },
  {
   "cell_type": "code",
   "execution_count": 9,
   "id": "4a919c3b",
   "metadata": {},
   "outputs": [],
   "source": [
    "from sklearn.preprocessing import PolynomialFeatures"
   ]
  },
  {
   "cell_type": "code",
   "execution_count": 10,
   "id": "44457690",
   "metadata": {},
   "outputs": [
    {
     "data": {
      "text/html": [
       "<div>\n",
       "<style scoped>\n",
       "    .dataframe tbody tr th:only-of-type {\n",
       "        vertical-align: middle;\n",
       "    }\n",
       "\n",
       "    .dataframe tbody tr th {\n",
       "        vertical-align: top;\n",
       "    }\n",
       "\n",
       "    .dataframe thead th {\n",
       "        text-align: right;\n",
       "    }\n",
       "</style>\n",
       "<table border=\"1\" class=\"dataframe\">\n",
       "  <thead>\n",
       "    <tr style=\"text-align: right;\">\n",
       "      <th></th>\n",
       "      <th>lat</th>\n",
       "      <th>long</th>\n",
       "      <th>alt</th>\n",
       "      <th>location_kyoto</th>\n",
       "      <th>location_liestal</th>\n",
       "      <th>location_washingtondc</th>\n",
       "    </tr>\n",
       "  </thead>\n",
       "  <tbody>\n",
       "    <tr>\n",
       "      <th>0</th>\n",
       "      <td>38.88535</td>\n",
       "      <td>-77.038628</td>\n",
       "      <td>0</td>\n",
       "      <td>0</td>\n",
       "      <td>0</td>\n",
       "      <td>1</td>\n",
       "    </tr>\n",
       "    <tr>\n",
       "      <th>1</th>\n",
       "      <td>38.88535</td>\n",
       "      <td>-77.038628</td>\n",
       "      <td>0</td>\n",
       "      <td>0</td>\n",
       "      <td>0</td>\n",
       "      <td>1</td>\n",
       "    </tr>\n",
       "    <tr>\n",
       "      <th>2</th>\n",
       "      <td>38.88535</td>\n",
       "      <td>-77.038628</td>\n",
       "      <td>0</td>\n",
       "      <td>0</td>\n",
       "      <td>0</td>\n",
       "      <td>1</td>\n",
       "    </tr>\n",
       "    <tr>\n",
       "      <th>3</th>\n",
       "      <td>38.88535</td>\n",
       "      <td>-77.038628</td>\n",
       "      <td>0</td>\n",
       "      <td>0</td>\n",
       "      <td>0</td>\n",
       "      <td>1</td>\n",
       "    </tr>\n",
       "    <tr>\n",
       "      <th>4</th>\n",
       "      <td>38.88535</td>\n",
       "      <td>-77.038628</td>\n",
       "      <td>0</td>\n",
       "      <td>0</td>\n",
       "      <td>0</td>\n",
       "      <td>1</td>\n",
       "    </tr>\n",
       "  </tbody>\n",
       "</table>\n",
       "</div>"
      ],
      "text/plain": [
       "        lat       long  alt  location_kyoto  location_liestal  \\\n",
       "0  38.88535 -77.038628    0               0                 0   \n",
       "1  38.88535 -77.038628    0               0                 0   \n",
       "2  38.88535 -77.038628    0               0                 0   \n",
       "3  38.88535 -77.038628    0               0                 0   \n",
       "4  38.88535 -77.038628    0               0                 0   \n",
       "\n",
       "   location_washingtondc  \n",
       "0                      1  \n",
       "1                      1  \n",
       "2                      1  \n",
       "3                      1  \n",
       "4                      1  "
      ]
     },
     "execution_count": 10,
     "metadata": {},
     "output_type": "execute_result"
    }
   ],
   "source": [
    "X = pd.get_dummies(X, columns=['location'])\n",
    "X.head()"
   ]
  },
  {
   "cell_type": "code",
   "execution_count": 11,
   "id": "9d4f99b1",
   "metadata": {},
   "outputs": [
    {
     "data": {
      "text/plain": [
       "(1062, 6)"
      ]
     },
     "execution_count": 11,
     "metadata": {},
     "output_type": "execute_result"
    }
   ],
   "source": [
    "X.shape"
   ]
  },
  {
   "cell_type": "code",
   "execution_count": 12,
   "id": "d7de8b2a",
   "metadata": {},
   "outputs": [],
   "source": [
    "polynomial_features = PolynomialFeatures(degree=2, include_bias=False)"
   ]
  },
  {
   "cell_type": "code",
   "execution_count": 13,
   "id": "527d1f69",
   "metadata": {},
   "outputs": [
    {
     "data": {
      "text/plain": [
       "PolynomialFeatures(include_bias=False)"
      ]
     },
     "execution_count": 13,
     "metadata": {},
     "output_type": "execute_result"
    }
   ],
   "source": [
    "polynomial_features.fit(X)"
   ]
  },
  {
   "cell_type": "code",
   "execution_count": 14,
   "id": "df662704",
   "metadata": {},
   "outputs": [],
   "source": [
    "polynomial_features = polynomial_features.transform(X)"
   ]
  },
  {
   "cell_type": "code",
   "execution_count": 15,
   "id": "74de6eb6",
   "metadata": {},
   "outputs": [
    {
     "data": {
      "text/plain": [
       "(1062, 27)"
      ]
     },
     "execution_count": 15,
     "metadata": {},
     "output_type": "execute_result"
    }
   ],
   "source": [
    "polynomial_features.shape"
   ]
  },
  {
   "cell_type": "code",
   "execution_count": 16,
   "id": "7bf8982f",
   "metadata": {},
   "outputs": [
    {
     "data": {
      "text/plain": [
       "array([ 3.88853496e+01, -7.70386278e+01,  0.00000000e+00,  0.00000000e+00,\n",
       "        0.00000000e+00,  1.00000000e+00,  1.51207041e+03, -2.99567397e+03,\n",
       "        0.00000000e+00,  0.00000000e+00,  0.00000000e+00,  3.88853496e+01,\n",
       "        5.93495017e+03, -0.00000000e+00, -0.00000000e+00, -0.00000000e+00,\n",
       "       -7.70386278e+01,  0.00000000e+00,  0.00000000e+00,  0.00000000e+00,\n",
       "        0.00000000e+00,  0.00000000e+00,  0.00000000e+00,  0.00000000e+00,\n",
       "        0.00000000e+00,  0.00000000e+00,  1.00000000e+00])"
      ]
     },
     "execution_count": 16,
     "metadata": {},
     "output_type": "execute_result"
    }
   ],
   "source": [
    "polynomial_features[0]"
   ]
  },
  {
   "cell_type": "code",
   "execution_count": 17,
   "id": "05c48959",
   "metadata": {},
   "outputs": [
    {
     "data": {
      "text/plain": [
       "lat                      38.885350\n",
       "long                    -77.038628\n",
       "alt                       0.000000\n",
       "location_kyoto            0.000000\n",
       "location_liestal          0.000000\n",
       "location_washingtondc     1.000000\n",
       "Name: 0, dtype: float64"
      ]
     },
     "execution_count": 17,
     "metadata": {},
     "output_type": "execute_result"
    }
   ],
   "source": [
    "X.iloc[0]"
   ]
  },
  {
   "cell_type": "code",
   "execution_count": 18,
   "id": "27a8006c",
   "metadata": {},
   "outputs": [],
   "source": [
    "from sklearn.model_selection import train_test_split"
   ]
  },
  {
   "cell_type": "code",
   "execution_count": 19,
   "id": "eca7dcc9",
   "metadata": {},
   "outputs": [],
   "source": [
    "X_train, X_test, y_train, y_test = train_test_split(polynomial_features, Y, test_size=0.3, random_state=101)"
   ]
  },
  {
   "cell_type": "code",
   "execution_count": 20,
   "id": "04d447f0",
   "metadata": {},
   "outputs": [],
   "source": [
    "from sklearn.linear_model import LinearRegression"
   ]
  },
  {
   "cell_type": "code",
   "execution_count": 21,
   "id": "30656090",
   "metadata": {},
   "outputs": [],
   "source": [
    "model = LinearRegression()"
   ]
  },
  {
   "cell_type": "code",
   "execution_count": 22,
   "id": "3da1b150",
   "metadata": {},
   "outputs": [
    {
     "data": {
      "text/plain": [
       "LinearRegression()"
      ]
     },
     "execution_count": 22,
     "metadata": {},
     "output_type": "execute_result"
    }
   ],
   "source": [
    "model.fit(X_train, y_train)"
   ]
  },
  {
   "cell_type": "code",
   "execution_count": 23,
   "id": "ae4546e0",
   "metadata": {},
   "outputs": [],
   "source": [
    "test_predictions = model.predict(X_test)"
   ]
  },
  {
   "cell_type": "code",
   "execution_count": 23,
   "id": "2ba1eede",
   "metadata": {},
   "outputs": [],
   "source": [
    "# model.coef_"
   ]
  },
  {
   "cell_type": "code",
   "execution_count": 24,
   "id": "d0c9f969",
   "metadata": {},
   "outputs": [],
   "source": [
    "from sklearn.metrics import mean_absolute_error, mean_squared_error"
   ]
  },
  {
   "cell_type": "code",
   "execution_count": 26,
   "id": "409130c5",
   "metadata": {},
   "outputs": [],
   "source": [
    "MAE = mean_absolute_error(y_test, test_predictions)"
   ]
  },
  {
   "cell_type": "code",
   "execution_count": 27,
   "id": "081e3d15",
   "metadata": {},
   "outputs": [
    {
     "data": {
      "text/plain": [
       "5.561113985354623"
      ]
     },
     "execution_count": 27,
     "metadata": {},
     "output_type": "execute_result"
    }
   ],
   "source": [
    "MAE"
   ]
  },
  {
   "cell_type": "code",
   "execution_count": 28,
   "id": "fc8a349d",
   "metadata": {},
   "outputs": [],
   "source": [
    "MSE = mean_squared_error(y_test, test_predictions)"
   ]
  },
  {
   "cell_type": "code",
   "execution_count": 29,
   "id": "303e3387",
   "metadata": {},
   "outputs": [
    {
     "data": {
      "text/plain": [
       "50.463112512539176"
      ]
     },
     "execution_count": 29,
     "metadata": {},
     "output_type": "execute_result"
    }
   ],
   "source": [
    "MSE"
   ]
  },
  {
   "cell_type": "code",
   "execution_count": 30,
   "id": "48135869",
   "metadata": {},
   "outputs": [],
   "source": [
    "RMSE = np.sqrt(MSE)"
   ]
  },
  {
   "cell_type": "code",
   "execution_count": 31,
   "id": "3f1294e7",
   "metadata": {},
   "outputs": [
    {
     "data": {
      "text/plain": [
       "7.103739333093464"
      ]
     },
     "execution_count": 31,
     "metadata": {},
     "output_type": "execute_result"
    }
   ],
   "source": [
    "RMSE"
   ]
  },
  {
   "cell_type": "code",
   "execution_count": 32,
   "id": "fd9cbc01",
   "metadata": {},
   "outputs": [
    {
     "data": {
      "text/plain": [
       "5.561113985354623"
      ]
     },
     "execution_count": 32,
     "metadata": {},
     "output_type": "execute_result"
    }
   ],
   "source": [
    "MAE"
   ]
  },
  {
   "cell_type": "code",
   "execution_count": 33,
   "id": "40313cb4",
   "metadata": {},
   "outputs": [
    {
     "data": {
      "text/plain": [
       "7.103739333093464"
      ]
     },
     "execution_count": 33,
     "metadata": {},
     "output_type": "execute_result"
    }
   ],
   "source": [
    "RMSE"
   ]
  },
  {
   "cell_type": "code",
   "execution_count": 34,
   "id": "51b1e165",
   "metadata": {},
   "outputs": [],
   "source": [
    "train_rmse_errors = []\n",
    "test_rmse_errors = []\n",
    "\n",
    "for i in range(1, 10):\n",
    "    poly_converter = PolynomialFeatures(degree=i, include_bias=False)\n",
    "    poly_features = poly_converter.fit_transform(X)\n",
    "    \n",
    "    X_train, X_test, y_train, y_test = train_test_split(poly_features, Y, test_size=0.3, random_state=101)\n",
    "    \n",
    "    model = LinearRegression()\n",
    "    model.fit(X_train, y_train)\n",
    "    \n",
    "    train_predict = model.predict(X_train)\n",
    "    test_predict = model.predict(X_test)\n",
    "    \n",
    "    train_rmse = np.sqrt(mean_squared_error(y_train, train_predict))\n",
    "    test_rmse = np.sqrt(mean_squared_error(y_test, test_predict))\n",
    "    \n",
    "    train_rmse_errors.append(train_rmse)\n",
    "    test_rmse_errors.append(test_rmse)"
   ]
  },
  {
   "cell_type": "code",
   "execution_count": 35,
   "id": "318475de",
   "metadata": {},
   "outputs": [
    {
     "data": {
      "text/plain": [
       "[7.288541381434072,\n",
       " 7.288669800489242,\n",
       " 7.288643129461159,\n",
       " 7.2885440145459715,\n",
       " 7.2885577993077755,\n",
       " 7.339633333490266,\n",
       " 7.28858364682581,\n",
       " 7.288627907855935,\n",
       " 7.288549151547274]"
      ]
     },
     "execution_count": 35,
     "metadata": {},
     "output_type": "execute_result"
    }
   ],
   "source": [
    "train_rmse_errors"
   ]
  },
  {
   "cell_type": "code",
   "execution_count": 36,
   "id": "cadfb304",
   "metadata": {},
   "outputs": [
    {
     "data": {
      "text/plain": [
       "[7.100217898034065,\n",
       " 7.103739333093464,\n",
       " 7.103149876698765,\n",
       " 7.099608595806375,\n",
       " 7.100903068228951,\n",
       " 7.11349493678591,\n",
       " 7.098988847334849,\n",
       " 7.098809852598264,\n",
       " 7.098940951736488]"
      ]
     },
     "execution_count": 36,
     "metadata": {},
     "output_type": "execute_result"
    }
   ],
   "source": [
    "test_rmse_errors"
   ]
  },
  {
   "cell_type": "code",
   "execution_count": 37,
   "id": "9c515006",
   "metadata": {},
   "outputs": [
    {
     "data": {
      "text/plain": [
       "<matplotlib.legend.Legend at 0x1c133da7dc0>"
      ]
     },
     "execution_count": 37,
     "metadata": {},
     "output_type": "execute_result"
    },
    {
     "data": {
      "image/png": "[encoded data removed]",
      "text/plain": [
       "<Figure size 432x288 with 1 Axes>"
      ]
     },
     "metadata": {
      "needs_background": "light"
     },
     "output_type": "display_data"
    }
   ],
   "source": [
    "plt.plot(range(1, 6), train_rmse_errors[0: 5], label='Train RMSE')\n",
    "plt.plot(range(1, 6), test_rmse_errors[0: 5], label='Test RMSE')\n",
    "plt.xlabel('Degree of polynomial')\n",
    "plt.ylabel('RMSE')\n",
    "plt.legend()"
   ]
  },
  {
   "cell_type": "code",
   "execution_count": 38,
   "id": "200f4eb0",
   "metadata": {},
   "outputs": [
    {
     "data": {
      "text/plain": [
       "location         liestal\n",
       "lat              47.4814\n",
       "long            7.730519\n",
       "alt                  350\n",
       "year                2021\n",
       "bloom_date    2021-03-28\n",
       "bloom_doy             87\n",
       "Name: 127, dtype: object"
      ]
     },
     "execution_count": 38,
     "metadata": {},
     "output_type": "execute_result"
    }
   ],
   "source": [
    "all_places.iloc[-1]"
   ]
  },
  {
   "cell_type": "code",
   "execution_count": 39,
   "id": "3c35a9a7",
   "metadata": {},
   "outputs": [
    {
     "data": {
      "text/plain": [
       "lat                      38.885350\n",
       "long                    -77.038628\n",
       "alt                       0.000000\n",
       "location_kyoto            0.000000\n",
       "location_liestal          0.000000\n",
       "location_washingtondc     1.000000\n",
       "Name: 0, dtype: float64"
      ]
     },
     "execution_count": 39,
     "metadata": {},
     "output_type": "execute_result"
    }
   ],
   "source": [
    "X.iloc[0]"
   ]
  },
  {
   "cell_type": "code",
   "execution_count": 41,
   "id": "568ec27c",
   "metadata": {},
   "outputs": [],
   "source": [
    "test_predictions = [round(pred) for pred in test_predictions]"
   ]
  },
  {
   "cell_type": "code",
   "execution_count": 44,
   "id": "4faaffa7",
   "metadata": {},
   "outputs": [],
   "source": [
    "avg_no_of_days = round(np.mean(test_predictions))"
   ]
  },
  {
   "cell_type": "code",
   "execution_count": 45,
   "id": "d306446d",
   "metadata": {},
   "outputs": [
    {
     "data": {
      "text/plain": [
       "103"
      ]
     },
     "execution_count": 45,
     "metadata": {},
     "output_type": "execute_result"
    }
   ],
   "source": [
    "avg_no_of_days"
   ]
  },
  {
   "cell_type": "code",
   "execution_count": 46,
   "id": "7c7146d3",
   "metadata": {},
   "outputs": [
    {
     "name": "stdout",
     "output_type": "stream",
     "text": [
      "The earliest predicted blossom date:  95\n"
     ]
    }
   ],
   "source": [
    "print('The earliest predicted blossom date: ', min(test_predictions))"
   ]
  },
  {
   "cell_type": "code",
   "execution_count": 47,
   "id": "8ecd2af0",
   "metadata": {},
   "outputs": [
    {
     "name": "stdout",
     "output_type": "stream",
     "text": [
      "The latest predicted blossom date:  104\n"
     ]
    }
   ],
   "source": [
    "print('The latest predicted blossom date: ', max(test_predictions))"
   ]
  },
  {
   "cell_type": "code",
   "execution_count": null,
   "id": "f2fac339",
   "metadata": {},
   "outputs": [],
   "source": []
  }
 ],
 "metadata": {
  "kernelspec": {
   "display_name": "Python 3 (ipykernel)",
   "language": "python",
   "name": "python3"
  },
  "language_info": {
   "codemirror_mode": {
    "name": "ipython",
    "version": 3
   },
   "file_extension": ".py",
   "mimetype": "text/x-python",
   "name": "python",
   "nbconvert_exporter": "python",
   "pygments_lexer": "ipython3",
   "version": "3.9.7"
  }
 },
 "nbformat": 4,
 "nbformat_minor": 5
}
