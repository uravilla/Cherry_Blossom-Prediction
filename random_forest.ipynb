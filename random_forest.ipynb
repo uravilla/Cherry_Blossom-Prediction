{
 "cells": [
  {
   "cell_type": "code",
   "execution_count": 1,
   "id": "9f30a483",
   "metadata": {},
   "outputs": [],
   "source": [
    "import pandas as pd\n",
    "import matplotlib.pyplot as plt\n",
    "import numpy as np\n",
    "import seaborn as sns"
   ]
  },
  {
   "cell_type": "code",
   "execution_count": 2,
   "id": "deceeb5e",
   "metadata": {},
   "outputs": [],
   "source": [
    "# Loading the dataset for Kyoto\n",
    "kyoto = pd.read_csv('data/kyoto.csv')"
   ]
  },
  {
   "cell_type": "code",
   "execution_count": 3,
   "id": "579b3e65",
   "metadata": {},
   "outputs": [],
   "source": [
    "# Loading the dataset for Liestal\n",
    "liestal = pd.read_csv('data/liestal.csv')"
   ]
  },
  {
   "cell_type": "code",
   "execution_count": 4,
   "id": "fb6822e3",
   "metadata": {},
   "outputs": [],
   "source": [
    "# Loading the dataset for Washington DC\n",
    "washingtondc = pd.read_csv('data/washingtondc.csv')"
   ]
  },
  {
   "cell_type": "code",
   "execution_count": 5,
   "id": "0366aeb1",
   "metadata": {},
   "outputs": [],
   "source": [
    "all_places = pd.concat([washingtondc, kyoto, liestal])"
   ]
  },
  {
   "cell_type": "code",
   "execution_count": 6,
   "id": "00a930e8",
   "metadata": {},
   "outputs": [
    {
     "data": {
      "text/html": [
       "<div>\n",
       "<style scoped>\n",
       "    .dataframe tbody tr th:only-of-type {\n",
       "        vertical-align: middle;\n",
       "    }\n",
       "\n",
       "    .dataframe tbody tr th {\n",
       "        vertical-align: top;\n",
       "    }\n",
       "\n",
       "    .dataframe thead th {\n",
       "        text-align: right;\n",
       "    }\n",
       "</style>\n",
       "<table border=\"1\" class=\"dataframe\">\n",
       "  <thead>\n",
       "    <tr style=\"text-align: right;\">\n",
       "      <th></th>\n",
       "      <th>location</th>\n",
       "      <th>lat</th>\n",
       "      <th>long</th>\n",
       "      <th>alt</th>\n",
       "      <th>year</th>\n",
       "      <th>bloom_date</th>\n",
       "      <th>bloom_doy</th>\n",
       "    </tr>\n",
       "  </thead>\n",
       "  <tbody>\n",
       "    <tr>\n",
       "      <th>0</th>\n",
       "      <td>washingtondc</td>\n",
       "      <td>38.88535</td>\n",
       "      <td>-77.038628</td>\n",
       "      <td>0</td>\n",
       "      <td>1921</td>\n",
       "      <td>1921-03-20</td>\n",
       "      <td>79</td>\n",
       "    </tr>\n",
       "    <tr>\n",
       "      <th>1</th>\n",
       "      <td>washingtondc</td>\n",
       "      <td>38.88535</td>\n",
       "      <td>-77.038628</td>\n",
       "      <td>0</td>\n",
       "      <td>1922</td>\n",
       "      <td>1922-04-07</td>\n",
       "      <td>97</td>\n",
       "    </tr>\n",
       "    <tr>\n",
       "      <th>2</th>\n",
       "      <td>washingtondc</td>\n",
       "      <td>38.88535</td>\n",
       "      <td>-77.038628</td>\n",
       "      <td>0</td>\n",
       "      <td>1923</td>\n",
       "      <td>1923-04-09</td>\n",
       "      <td>99</td>\n",
       "    </tr>\n",
       "    <tr>\n",
       "      <th>3</th>\n",
       "      <td>washingtondc</td>\n",
       "      <td>38.88535</td>\n",
       "      <td>-77.038628</td>\n",
       "      <td>0</td>\n",
       "      <td>1924</td>\n",
       "      <td>1924-04-13</td>\n",
       "      <td>104</td>\n",
       "    </tr>\n",
       "    <tr>\n",
       "      <th>4</th>\n",
       "      <td>washingtondc</td>\n",
       "      <td>38.88535</td>\n",
       "      <td>-77.038628</td>\n",
       "      <td>0</td>\n",
       "      <td>1925</td>\n",
       "      <td>1925-03-27</td>\n",
       "      <td>86</td>\n",
       "    </tr>\n",
       "  </tbody>\n",
       "</table>\n",
       "</div>"
      ],
      "text/plain": [
       "       location       lat       long  alt  year  bloom_date  bloom_doy\n",
       "0  washingtondc  38.88535 -77.038628    0  1921  1921-03-20         79\n",
       "1  washingtondc  38.88535 -77.038628    0  1922  1922-04-07         97\n",
       "2  washingtondc  38.88535 -77.038628    0  1923  1923-04-09         99\n",
       "3  washingtondc  38.88535 -77.038628    0  1924  1924-04-13        104\n",
       "4  washingtondc  38.88535 -77.038628    0  1925  1925-03-27         86"
      ]
     },
     "execution_count": 6,
     "metadata": {},
     "output_type": "execute_result"
    }
   ],
   "source": [
    "all_places.head()"
   ]
  },
  {
   "cell_type": "code",
   "execution_count": 7,
   "id": "31dd935d",
   "metadata": {},
   "outputs": [
    {
     "data": {
      "text/html": [
       "<div>\n",
       "<style scoped>\n",
       "    .dataframe tbody tr th:only-of-type {\n",
       "        vertical-align: middle;\n",
       "    }\n",
       "\n",
       "    .dataframe tbody tr th {\n",
       "        vertical-align: top;\n",
       "    }\n",
       "\n",
       "    .dataframe thead th {\n",
       "        text-align: right;\n",
       "    }\n",
       "</style>\n",
       "<table border=\"1\" class=\"dataframe\">\n",
       "  <thead>\n",
       "    <tr style=\"text-align: right;\">\n",
       "      <th></th>\n",
       "      <th>location</th>\n",
       "      <th>lat</th>\n",
       "      <th>long</th>\n",
       "      <th>alt</th>\n",
       "      <th>year</th>\n",
       "      <th>bloom_date</th>\n",
       "      <th>bloom_doy</th>\n",
       "    </tr>\n",
       "  </thead>\n",
       "  <tbody>\n",
       "    <tr>\n",
       "      <th>123</th>\n",
       "      <td>liestal</td>\n",
       "      <td>47.4814</td>\n",
       "      <td>7.730519</td>\n",
       "      <td>350</td>\n",
       "      <td>2017</td>\n",
       "      <td>2017-03-26</td>\n",
       "      <td>85</td>\n",
       "    </tr>\n",
       "    <tr>\n",
       "      <th>124</th>\n",
       "      <td>liestal</td>\n",
       "      <td>47.4814</td>\n",
       "      <td>7.730519</td>\n",
       "      <td>350</td>\n",
       "      <td>2018</td>\n",
       "      <td>2018-04-08</td>\n",
       "      <td>98</td>\n",
       "    </tr>\n",
       "    <tr>\n",
       "      <th>125</th>\n",
       "      <td>liestal</td>\n",
       "      <td>47.4814</td>\n",
       "      <td>7.730519</td>\n",
       "      <td>350</td>\n",
       "      <td>2019</td>\n",
       "      <td>2019-03-27</td>\n",
       "      <td>86</td>\n",
       "    </tr>\n",
       "    <tr>\n",
       "      <th>126</th>\n",
       "      <td>liestal</td>\n",
       "      <td>47.4814</td>\n",
       "      <td>7.730519</td>\n",
       "      <td>350</td>\n",
       "      <td>2020</td>\n",
       "      <td>2020-03-17</td>\n",
       "      <td>77</td>\n",
       "    </tr>\n",
       "    <tr>\n",
       "      <th>127</th>\n",
       "      <td>liestal</td>\n",
       "      <td>47.4814</td>\n",
       "      <td>7.730519</td>\n",
       "      <td>350</td>\n",
       "      <td>2021</td>\n",
       "      <td>2021-03-28</td>\n",
       "      <td>87</td>\n",
       "    </tr>\n",
       "  </tbody>\n",
       "</table>\n",
       "</div>"
      ],
      "text/plain": [
       "    location      lat      long  alt  year  bloom_date  bloom_doy\n",
       "123  liestal  47.4814  7.730519  350  2017  2017-03-26         85\n",
       "124  liestal  47.4814  7.730519  350  2018  2018-04-08         98\n",
       "125  liestal  47.4814  7.730519  350  2019  2019-03-27         86\n",
       "126  liestal  47.4814  7.730519  350  2020  2020-03-17         77\n",
       "127  liestal  47.4814  7.730519  350  2021  2021-03-28         87"
      ]
     },
     "execution_count": 7,
     "metadata": {},
     "output_type": "execute_result"
    }
   ],
   "source": [
    "all_places.tail()"
   ]
  },
  {
   "cell_type": "code",
   "execution_count": 8,
   "id": "fce7de00",
   "metadata": {},
   "outputs": [
    {
     "name": "stdout",
     "output_type": "stream",
     "text": [
      "<class 'pandas.core.frame.DataFrame'>\n",
      "Int64Index: 1062 entries, 0 to 127\n",
      "Data columns (total 7 columns):\n",
      " #   Column      Non-Null Count  Dtype  \n",
      "---  ------      --------------  -----  \n",
      " 0   location    1062 non-null   object \n",
      " 1   lat         1062 non-null   float64\n",
      " 2   long        1062 non-null   float64\n",
      " 3   alt         1062 non-null   int64  \n",
      " 4   year        1062 non-null   int64  \n",
      " 5   bloom_date  1062 non-null   object \n",
      " 6   bloom_doy   1062 non-null   int64  \n",
      "dtypes: float64(2), int64(3), object(2)\n",
      "memory usage: 66.4+ KB\n"
     ]
    }
   ],
   "source": [
    "all_places.info()"
   ]
  },
  {
   "cell_type": "code",
   "execution_count": 9,
   "id": "48fde935",
   "metadata": {},
   "outputs": [
    {
     "data": {
      "text/html": [
       "<div>\n",
       "<style scoped>\n",
       "    .dataframe tbody tr th:only-of-type {\n",
       "        vertical-align: middle;\n",
       "    }\n",
       "\n",
       "    .dataframe tbody tr th {\n",
       "        vertical-align: top;\n",
       "    }\n",
       "\n",
       "    .dataframe thead th {\n",
       "        text-align: right;\n",
       "    }\n",
       "</style>\n",
       "<table border=\"1\" class=\"dataframe\">\n",
       "  <thead>\n",
       "    <tr style=\"text-align: right;\">\n",
       "      <th></th>\n",
       "      <th>lat</th>\n",
       "      <th>long</th>\n",
       "      <th>alt</th>\n",
       "      <th>year</th>\n",
       "      <th>bloom_doy</th>\n",
       "    </tr>\n",
       "  </thead>\n",
       "  <tbody>\n",
       "    <tr>\n",
       "      <th>count</th>\n",
       "      <td>1062.000000</td>\n",
       "      <td>1062.000000</td>\n",
       "      <td>1062.000000</td>\n",
       "      <td>1062.000000</td>\n",
       "      <td>1062.000000</td>\n",
       "    </tr>\n",
       "    <tr>\n",
       "      <th>mean</th>\n",
       "      <td>36.883259</td>\n",
       "      <td>100.025243</td>\n",
       "      <td>76.696798</td>\n",
       "      <td>1640.898305</td>\n",
       "      <td>103.036723</td>\n",
       "    </tr>\n",
       "    <tr>\n",
       "      <th>std</th>\n",
       "      <td>4.084265</td>\n",
       "      <td>70.781205</td>\n",
       "      <td>102.032042</td>\n",
       "      <td>319.594611</td>\n",
       "      <td>7.909810</td>\n",
       "    </tr>\n",
       "    <tr>\n",
       "      <th>min</th>\n",
       "      <td>35.011983</td>\n",
       "      <td>-77.038628</td>\n",
       "      <td>0.000000</td>\n",
       "      <td>812.000000</td>\n",
       "      <td>74.000000</td>\n",
       "    </tr>\n",
       "    <tr>\n",
       "      <th>25%</th>\n",
       "      <td>35.011983</td>\n",
       "      <td>135.676114</td>\n",
       "      <td>44.000000</td>\n",
       "      <td>1421.250000</td>\n",
       "      <td>98.000000</td>\n",
       "    </tr>\n",
       "    <tr>\n",
       "      <th>50%</th>\n",
       "      <td>35.011983</td>\n",
       "      <td>135.676114</td>\n",
       "      <td>44.000000</td>\n",
       "      <td>1713.500000</td>\n",
       "      <td>104.000000</td>\n",
       "    </tr>\n",
       "    <tr>\n",
       "      <th>75%</th>\n",
       "      <td>35.011983</td>\n",
       "      <td>135.676114</td>\n",
       "      <td>44.000000</td>\n",
       "      <td>1932.750000</td>\n",
       "      <td>108.000000</td>\n",
       "    </tr>\n",
       "    <tr>\n",
       "      <th>max</th>\n",
       "      <td>47.481400</td>\n",
       "      <td>135.676114</td>\n",
       "      <td>350.000000</td>\n",
       "      <td>2021.000000</td>\n",
       "      <td>124.000000</td>\n",
       "    </tr>\n",
       "  </tbody>\n",
       "</table>\n",
       "</div>"
      ],
      "text/plain": [
       "               lat         long          alt         year    bloom_doy\n",
       "count  1062.000000  1062.000000  1062.000000  1062.000000  1062.000000\n",
       "mean     36.883259   100.025243    76.696798  1640.898305   103.036723\n",
       "std       4.084265    70.781205   102.032042   319.594611     7.909810\n",
       "min      35.011983   -77.038628     0.000000   812.000000    74.000000\n",
       "25%      35.011983   135.676114    44.000000  1421.250000    98.000000\n",
       "50%      35.011983   135.676114    44.000000  1713.500000   104.000000\n",
       "75%      35.011983   135.676114    44.000000  1932.750000   108.000000\n",
       "max      47.481400   135.676114   350.000000  2021.000000   124.000000"
      ]
     },
     "execution_count": 9,
     "metadata": {},
     "output_type": "execute_result"
    }
   ],
   "source": [
    "all_places.describe()"
   ]
  },
  {
   "cell_type": "code",
   "execution_count": 10,
   "id": "a1a18991",
   "metadata": {},
   "outputs": [],
   "source": [
    "X = all_places.drop(['bloom_date', 'year'], axis=1)"
   ]
  },
  {
   "cell_type": "code",
   "execution_count": 11,
   "id": "5ad216cb",
   "metadata": {},
   "outputs": [],
   "source": [
    "X = pd.get_dummies(X, columns=['location'])"
   ]
  },
  {
   "cell_type": "code",
   "execution_count": 12,
   "id": "c72ea8d4",
   "metadata": {},
   "outputs": [],
   "source": [
    "X = X.drop('bloom_doy', axis=1)"
   ]
  },
  {
   "cell_type": "code",
   "execution_count": 13,
   "id": "7e1edb82",
   "metadata": {},
   "outputs": [],
   "source": [
    "Y = all_places['bloom_doy']"
   ]
  },
  {
   "cell_type": "code",
   "execution_count": 14,
   "id": "71fd75c6",
   "metadata": {},
   "outputs": [],
   "source": [
    "from sklearn.model_selection import train_test_split"
   ]
  },
  {
   "cell_type": "code",
   "execution_count": 15,
   "id": "e372bcae",
   "metadata": {},
   "outputs": [],
   "source": [
    "X_train, X_test, y_train, y_test = train_test_split(X, Y, test_size=0.3, random_state=101)"
   ]
  },
  {
   "cell_type": "code",
   "execution_count": 16,
   "id": "d2702fd8",
   "metadata": {},
   "outputs": [],
   "source": [
    "from sklearn.ensemble import RandomForestRegressor"
   ]
  },
  {
   "cell_type": "code",
   "execution_count": 17,
   "id": "f5948eed",
   "metadata": {},
   "outputs": [],
   "source": [
    "random_forest = RandomForestRegressor()"
   ]
  },
  {
   "cell_type": "code",
   "execution_count": 18,
   "id": "216ae9b2",
   "metadata": {},
   "outputs": [
    {
     "data": {
      "text/plain": [
       "RandomForestRegressor()"
      ]
     },
     "execution_count": 18,
     "metadata": {},
     "output_type": "execute_result"
    }
   ],
   "source": [
    "random_forest.fit(X_train, y_train)"
   ]
  },
  {
   "cell_type": "code",
   "execution_count": 19,
   "id": "7bb07336",
   "metadata": {},
   "outputs": [
    {
     "data": {
      "text/html": [
       "<div>\n",
       "<style scoped>\n",
       "    .dataframe tbody tr th:only-of-type {\n",
       "        vertical-align: middle;\n",
       "    }\n",
       "\n",
       "    .dataframe tbody tr th {\n",
       "        vertical-align: top;\n",
       "    }\n",
       "\n",
       "    .dataframe thead th {\n",
       "        text-align: right;\n",
       "    }\n",
       "</style>\n",
       "<table border=\"1\" class=\"dataframe\">\n",
       "  <thead>\n",
       "    <tr style=\"text-align: right;\">\n",
       "      <th></th>\n",
       "      <th>lat</th>\n",
       "      <th>long</th>\n",
       "      <th>alt</th>\n",
       "      <th>location_kyoto</th>\n",
       "      <th>location_liestal</th>\n",
       "      <th>location_washingtondc</th>\n",
       "    </tr>\n",
       "  </thead>\n",
       "  <tbody>\n",
       "    <tr>\n",
       "      <th>88</th>\n",
       "      <td>35.011983</td>\n",
       "      <td>135.676114</td>\n",
       "      <td>44</td>\n",
       "      <td>1</td>\n",
       "      <td>0</td>\n",
       "      <td>0</td>\n",
       "    </tr>\n",
       "    <tr>\n",
       "      <th>664</th>\n",
       "      <td>35.011983</td>\n",
       "      <td>135.676114</td>\n",
       "      <td>44</td>\n",
       "      <td>1</td>\n",
       "      <td>0</td>\n",
       "      <td>0</td>\n",
       "    </tr>\n",
       "    <tr>\n",
       "      <th>254</th>\n",
       "      <td>35.011983</td>\n",
       "      <td>135.676114</td>\n",
       "      <td>44</td>\n",
       "      <td>1</td>\n",
       "      <td>0</td>\n",
       "      <td>0</td>\n",
       "    </tr>\n",
       "    <tr>\n",
       "      <th>166</th>\n",
       "      <td>35.011983</td>\n",
       "      <td>135.676114</td>\n",
       "      <td>44</td>\n",
       "      <td>1</td>\n",
       "      <td>0</td>\n",
       "      <td>0</td>\n",
       "    </tr>\n",
       "    <tr>\n",
       "      <th>647</th>\n",
       "      <td>35.011983</td>\n",
       "      <td>135.676114</td>\n",
       "      <td>44</td>\n",
       "      <td>1</td>\n",
       "      <td>0</td>\n",
       "      <td>0</td>\n",
       "    </tr>\n",
       "    <tr>\n",
       "      <th>...</th>\n",
       "      <td>...</td>\n",
       "      <td>...</td>\n",
       "      <td>...</td>\n",
       "      <td>...</td>\n",
       "      <td>...</td>\n",
       "      <td>...</td>\n",
       "    </tr>\n",
       "    <tr>\n",
       "      <th>54</th>\n",
       "      <td>35.011983</td>\n",
       "      <td>135.676114</td>\n",
       "      <td>44</td>\n",
       "      <td>1</td>\n",
       "      <td>0</td>\n",
       "      <td>0</td>\n",
       "    </tr>\n",
       "    <tr>\n",
       "      <th>686</th>\n",
       "      <td>35.011983</td>\n",
       "      <td>135.676114</td>\n",
       "      <td>44</td>\n",
       "      <td>1</td>\n",
       "      <td>0</td>\n",
       "      <td>0</td>\n",
       "    </tr>\n",
       "    <tr>\n",
       "      <th>5</th>\n",
       "      <td>47.481400</td>\n",
       "      <td>7.730519</td>\n",
       "      <td>350</td>\n",
       "      <td>0</td>\n",
       "      <td>1</td>\n",
       "      <td>0</td>\n",
       "    </tr>\n",
       "    <tr>\n",
       "      <th>540</th>\n",
       "      <td>35.011983</td>\n",
       "      <td>135.676114</td>\n",
       "      <td>44</td>\n",
       "      <td>1</td>\n",
       "      <td>0</td>\n",
       "      <td>0</td>\n",
       "    </tr>\n",
       "    <tr>\n",
       "      <th>77</th>\n",
       "      <td>38.885350</td>\n",
       "      <td>-77.038628</td>\n",
       "      <td>0</td>\n",
       "      <td>0</td>\n",
       "      <td>0</td>\n",
       "      <td>1</td>\n",
       "    </tr>\n",
       "  </tbody>\n",
       "</table>\n",
       "<p>319 rows × 6 columns</p>\n",
       "</div>"
      ],
      "text/plain": [
       "           lat        long  alt  location_kyoto  location_liestal  \\\n",
       "88   35.011983  135.676114   44               1                 0   \n",
       "664  35.011983  135.676114   44               1                 0   \n",
       "254  35.011983  135.676114   44               1                 0   \n",
       "166  35.011983  135.676114   44               1                 0   \n",
       "647  35.011983  135.676114   44               1                 0   \n",
       "..         ...         ...  ...             ...               ...   \n",
       "54   35.011983  135.676114   44               1                 0   \n",
       "686  35.011983  135.676114   44               1                 0   \n",
       "5    47.481400    7.730519  350               0                 1   \n",
       "540  35.011983  135.676114   44               1                 0   \n",
       "77   38.885350  -77.038628    0               0                 0   \n",
       "\n",
       "     location_washingtondc  \n",
       "88                       0  \n",
       "664                      0  \n",
       "254                      0  \n",
       "166                      0  \n",
       "647                      0  \n",
       "..                     ...  \n",
       "54                       0  \n",
       "686                      0  \n",
       "5                        0  \n",
       "540                      0  \n",
       "77                       1  \n",
       "\n",
       "[319 rows x 6 columns]"
      ]
     },
     "execution_count": 19,
     "metadata": {},
     "output_type": "execute_result"
    }
   ],
   "source": [
    "X_test"
   ]
  },
  {
   "cell_type": "code",
   "execution_count": 20,
   "id": "3fa86e08",
   "metadata": {},
   "outputs": [],
   "source": [
    "test_predictions = random_forest.predict(X_test)"
   ]
  },
  {
   "cell_type": "code",
   "execution_count": 21,
   "id": "904f26f0",
   "metadata": {},
   "outputs": [
    {
     "data": {
      "text/plain": [
       "array([104.17650571, 104.17650571, 104.17650571, 104.17650571,\n",
       "       104.17650571, 104.17650571, 104.17650571, 100.60877111,\n",
       "       104.17650571, 100.60877111, 104.17650571,  94.48491047,\n",
       "       104.17650571, 104.17650571, 104.17650571, 104.17650571,\n",
       "       104.17650571, 104.17650571,  94.48491047, 100.60877111,\n",
       "       100.60877111, 104.17650571, 104.17650571, 104.17650571,\n",
       "       104.17650571, 104.17650571, 104.17650571, 104.17650571,\n",
       "       100.60877111, 100.60877111, 104.17650571, 104.17650571,\n",
       "       104.17650571, 104.17650571, 104.17650571,  94.48491047,\n",
       "       100.60877111, 104.17650571, 104.17650571, 100.60877111,\n",
       "       104.17650571, 104.17650571, 104.17650571, 100.60877111,\n",
       "       104.17650571, 100.60877111,  94.48491047, 104.17650571,\n",
       "       104.17650571, 100.60877111, 100.60877111, 104.17650571,\n",
       "       104.17650571, 104.17650571, 104.17650571, 104.17650571,\n",
       "       104.17650571, 100.60877111, 104.17650571, 104.17650571,\n",
       "       104.17650571, 104.17650571, 104.17650571, 104.17650571,\n",
       "       104.17650571, 104.17650571, 104.17650571, 104.17650571,\n",
       "       104.17650571, 104.17650571, 100.60877111, 104.17650571,\n",
       "       104.17650571, 104.17650571, 104.17650571, 104.17650571,\n",
       "       104.17650571, 104.17650571, 104.17650571,  94.48491047,\n",
       "       104.17650571, 104.17650571,  94.48491047,  94.48491047,\n",
       "        94.48491047,  94.48491047, 104.17650571,  94.48491047,\n",
       "        94.48491047, 104.17650571, 104.17650571,  94.48491047,\n",
       "       104.17650571, 104.17650571, 104.17650571, 104.17650571,\n",
       "       104.17650571, 104.17650571, 104.17650571, 104.17650571,\n",
       "       104.17650571, 104.17650571, 104.17650571, 104.17650571,\n",
       "       104.17650571, 104.17650571, 100.60877111, 104.17650571,\n",
       "       104.17650571, 100.60877111, 104.17650571, 104.17650571,\n",
       "        94.48491047, 104.17650571, 104.17650571, 104.17650571,\n",
       "       104.17650571, 104.17650571, 104.17650571, 104.17650571,\n",
       "       104.17650571, 104.17650571, 104.17650571, 104.17650571,\n",
       "       104.17650571, 100.60877111, 104.17650571, 104.17650571,\n",
       "       100.60877111, 104.17650571, 104.17650571, 104.17650571,\n",
       "       104.17650571, 104.17650571, 100.60877111, 104.17650571,\n",
       "        94.48491047, 104.17650571, 104.17650571, 104.17650571,\n",
       "       104.17650571, 104.17650571, 104.17650571, 104.17650571,\n",
       "       104.17650571, 104.17650571, 104.17650571, 104.17650571,\n",
       "       104.17650571, 104.17650571, 100.60877111, 104.17650571,\n",
       "       100.60877111, 104.17650571, 104.17650571,  94.48491047,\n",
       "       104.17650571, 104.17650571, 104.17650571, 104.17650571,\n",
       "        94.48491047, 104.17650571, 104.17650571, 104.17650571,\n",
       "       104.17650571, 104.17650571, 104.17650571, 100.60877111,\n",
       "       104.17650571, 100.60877111, 104.17650571, 104.17650571,\n",
       "       104.17650571, 100.60877111, 104.17650571, 104.17650571,\n",
       "       104.17650571, 100.60877111, 104.17650571, 104.17650571,\n",
       "       104.17650571, 104.17650571, 104.17650571, 104.17650571,\n",
       "       104.17650571, 104.17650571,  94.48491047, 104.17650571,\n",
       "       104.17650571,  94.48491047, 104.17650571, 104.17650571,\n",
       "       104.17650571, 104.17650571,  94.48491047,  94.48491047,\n",
       "       104.17650571, 100.60877111, 104.17650571, 104.17650571,\n",
       "       100.60877111, 104.17650571, 104.17650571, 104.17650571,\n",
       "       104.17650571, 104.17650571, 104.17650571, 104.17650571,\n",
       "       104.17650571, 104.17650571, 100.60877111, 104.17650571,\n",
       "       104.17650571, 100.60877111, 104.17650571, 104.17650571,\n",
       "        94.48491047, 104.17650571, 104.17650571, 104.17650571,\n",
       "       104.17650571, 104.17650571,  94.48491047, 104.17650571,\n",
       "       104.17650571, 104.17650571, 100.60877111, 104.17650571,\n",
       "       104.17650571, 104.17650571, 100.60877111, 104.17650571,\n",
       "       104.17650571, 104.17650571, 104.17650571, 104.17650571,\n",
       "       104.17650571, 104.17650571, 104.17650571, 104.17650571,\n",
       "       104.17650571, 104.17650571, 104.17650571, 104.17650571,\n",
       "       100.60877111, 100.60877111, 104.17650571, 104.17650571,\n",
       "       104.17650571, 104.17650571, 104.17650571, 104.17650571,\n",
       "       100.60877111,  94.48491047, 104.17650571, 104.17650571,\n",
       "       104.17650571, 104.17650571, 104.17650571, 100.60877111,\n",
       "       104.17650571, 104.17650571, 104.17650571, 100.60877111,\n",
       "        94.48491047, 104.17650571, 104.17650571, 104.17650571,\n",
       "       104.17650571, 104.17650571, 104.17650571, 104.17650571,\n",
       "       104.17650571, 104.17650571, 104.17650571, 104.17650571,\n",
       "       104.17650571, 100.60877111, 104.17650571, 104.17650571,\n",
       "       104.17650571, 104.17650571, 104.17650571, 100.60877111,\n",
       "       104.17650571, 104.17650571, 104.17650571, 104.17650571,\n",
       "       104.17650571, 104.17650571, 104.17650571, 104.17650571,\n",
       "       104.17650571, 104.17650571, 104.17650571, 104.17650571,\n",
       "       104.17650571, 100.60877111, 104.17650571, 104.17650571,\n",
       "       104.17650571, 104.17650571, 104.17650571, 104.17650571,\n",
       "       104.17650571, 104.17650571, 104.17650571, 104.17650571,\n",
       "       104.17650571, 104.17650571, 104.17650571, 104.17650571,\n",
       "       104.17650571, 104.17650571, 104.17650571, 104.17650571,\n",
       "       100.60877111, 104.17650571,  94.48491047])"
      ]
     },
     "execution_count": 21,
     "metadata": {},
     "output_type": "execute_result"
    }
   ],
   "source": [
    "test_predictions"
   ]
  },
  {
   "cell_type": "code",
   "execution_count": 22,
   "id": "430d4e14",
   "metadata": {},
   "outputs": [],
   "source": [
    "from sklearn.metrics import mean_absolute_error,mean_squared_error"
   ]
  },
  {
   "cell_type": "code",
   "execution_count": 23,
   "id": "0b487d00",
   "metadata": {},
   "outputs": [],
   "source": [
    "MAE = mean_absolute_error(y_test, test_predictions)"
   ]
  },
  {
   "cell_type": "code",
   "execution_count": 24,
   "id": "590e17e9",
   "metadata": {},
   "outputs": [
    {
     "data": {
      "text/plain": [
       "5.559004892206691"
      ]
     },
     "execution_count": 24,
     "metadata": {},
     "output_type": "execute_result"
    }
   ],
   "source": [
    "MAE"
   ]
  },
  {
   "cell_type": "code",
   "execution_count": 25,
   "id": "964e5dc7",
   "metadata": {},
   "outputs": [],
   "source": [
    "MSE = mean_squared_error(y_test, test_predictions)"
   ]
  },
  {
   "cell_type": "code",
   "execution_count": 26,
   "id": "1b353453",
   "metadata": {},
   "outputs": [
    {
     "data": {
      "text/plain": [
       "50.43977368013998"
      ]
     },
     "execution_count": 26,
     "metadata": {},
     "output_type": "execute_result"
    }
   ],
   "source": [
    "MSE"
   ]
  },
  {
   "cell_type": "code",
   "execution_count": 27,
   "id": "9ea93b91",
   "metadata": {},
   "outputs": [],
   "source": [
    "RMSE = np.sqrt(MSE)"
   ]
  },
  {
   "cell_type": "code",
   "execution_count": 28,
   "id": "d467c13b",
   "metadata": {},
   "outputs": [
    {
     "data": {
      "text/plain": [
       "7.102096428530098"
      ]
     },
     "execution_count": 28,
     "metadata": {},
     "output_type": "execute_result"
    }
   ],
   "source": [
    "RMSE"
   ]
  },
  {
   "cell_type": "code",
   "execution_count": 29,
   "id": "5bfca8c7",
   "metadata": {},
   "outputs": [
    {
     "data": {
      "text/plain": [
       "7.102096428530098"
      ]
     },
     "execution_count": 29,
     "metadata": {},
     "output_type": "execute_result"
    }
   ],
   "source": [
    "RMSE"
   ]
  },
  {
   "cell_type": "code",
   "execution_count": 30,
   "id": "866f8da5",
   "metadata": {},
   "outputs": [
    {
     "name": "stderr",
     "output_type": "stream",
     "text": [
      "c:\\users\\shriram\\appdata\\local\\programs\\python\\python39\\lib\\site-packages\\sklearn\\base.py:441: UserWarning: X does not have valid feature names, but RandomForestRegressor was fitted with feature names\n",
      "  warnings.warn(\n"
     ]
    },
    {
     "data": {
      "text/plain": [
       "array([102, 103,  99])"
      ]
     },
     "execution_count": 30,
     "metadata": {},
     "output_type": "execute_result"
    }
   ],
   "source": [
    "next_years = [[38.0113,136.8848,45,0,1,0],[37.1348,140.7890,42,1,0,0],[46.1345,120.7890,82,0,0,1]]\n",
    "random_forest.predict(next_years).round().astype(int)"
   ]
  },
  {
   "cell_type": "code",
   "execution_count": 31,
   "id": "0a8d889d",
   "metadata": {},
   "outputs": [],
   "source": [
    "test_predictions = [round(pred) for pred in test_predictions]\n",
    "avg_no_of_days = round(np.mean(test_predictions))"
   ]
  },
  {
   "cell_type": "code",
   "execution_count": 32,
   "id": "dc510cfe",
   "metadata": {},
   "outputs": [
    {
     "data": {
      "text/plain": [
       "103"
      ]
     },
     "execution_count": 32,
     "metadata": {},
     "output_type": "execute_result"
    }
   ],
   "source": [
    "avg_no_of_days"
   ]
  },
  {
   "cell_type": "code",
   "execution_count": 33,
   "id": "36895e31",
   "metadata": {},
   "outputs": [
    {
     "name": "stdout",
     "output_type": "stream",
     "text": [
      "The earliest predicted blossom date:  94\n"
     ]
    }
   ],
   "source": [
    "print('The earliest predicted blossom date: ', min(test_predictions))"
   ]
  },
  {
   "cell_type": "code",
   "execution_count": 34,
   "id": "4c8adedb",
   "metadata": {},
   "outputs": [
    {
     "name": "stdout",
     "output_type": "stream",
     "text": [
      "The latest predicted blossom date:  104\n"
     ]
    }
   ],
   "source": [
    "print('The latest predicted blossom date: ', max(test_predictions))"
   ]
  },
  {
   "cell_type": "code",
   "execution_count": null,
   "id": "066838ad",
   "metadata": {},
   "outputs": [],
   "source": []
  }
 ],
 "metadata": {
  "kernelspec": {
   "display_name": "Python 3 (ipykernel)",
   "language": "python",
   "name": "python3"
  },
  "language_info": {
   "codemirror_mode": {
    "name": "ipython",
    "version": 3
   },
   "file_extension": ".py",
   "mimetype": "text/x-python",
   "name": "python",
   "nbconvert_exporter": "python",
   "pygments_lexer": "ipython3",
   "version": "3.9.7"
  }
 },
 "nbformat": 4,
 "nbformat_minor": 5
}
